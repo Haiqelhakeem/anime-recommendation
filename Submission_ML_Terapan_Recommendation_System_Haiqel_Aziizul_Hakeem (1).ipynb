{
  "nbformat": 4,
  "nbformat_minor": 0,
  "metadata": {
    "colab": {
      "provenance": [],
      "gpuType": "T4",
      "toc_visible": true
    },
    "kernelspec": {
      "name": "python3",
      "display_name": "Python 3"
    },
    "language_info": {
      "name": "python"
    },
    "accelerator": "GPU"
  },
  "cells": [
    {
      "cell_type": "markdown",
      "source": [
        "# Proyek Sistem Rekomendasi: Anime Recommendation\n",
        "- Nama: Haiqel Aziizul Hakeem\n",
        "- Email: a547ybm193@devacademy.id\n",
        "- ID: haiqelhakeem"
      ],
      "metadata": {
        "id": "hVJAnm5HgBih"
      }
    },
    {
      "cell_type": "markdown",
      "source": [
        "## Import"
      ],
      "metadata": {
        "id": "5j6nwn5voObL"
      }
    },
    {
      "cell_type": "code",
      "source": [
        "!pip install surprise"
      ],
      "metadata": {
        "colab": {
          "base_uri": "https://localhost:8080/"
        },
        "id": "Lh4iO2Ad_hoj",
        "outputId": "1729080e-92ab-4fbb-c0ea-b18bd916fe79"
      },
      "execution_count": 1,
      "outputs": [
        {
          "output_type": "stream",
          "name": "stdout",
          "text": [
            "Collecting surprise\n",
            "  Downloading surprise-0.1-py2.py3-none-any.whl.metadata (327 bytes)\n",
            "Collecting scikit-surprise (from surprise)\n",
            "  Downloading scikit_surprise-1.1.4.tar.gz (154 kB)\n",
            "\u001b[2K     \u001b[90m━━━━━━━━━━━━━━━━━━━━━━━━━━━━━━━━━━━━━━━\u001b[0m \u001b[32m154.4/154.4 kB\u001b[0m \u001b[31m3.4 MB/s\u001b[0m eta \u001b[36m0:00:00\u001b[0m\n",
            "\u001b[?25h  Installing build dependencies ... \u001b[?25l\u001b[?25hdone\n",
            "  Getting requirements to build wheel ... \u001b[?25l\u001b[?25hdone\n",
            "  Preparing metadata (pyproject.toml) ... \u001b[?25l\u001b[?25hdone\n",
            "Requirement already satisfied: joblib>=1.2.0 in /usr/local/lib/python3.11/dist-packages (from scikit-surprise->surprise) (1.5.1)\n",
            "Requirement already satisfied: numpy>=1.19.5 in /usr/local/lib/python3.11/dist-packages (from scikit-surprise->surprise) (2.0.2)\n",
            "Requirement already satisfied: scipy>=1.6.0 in /usr/local/lib/python3.11/dist-packages (from scikit-surprise->surprise) (1.15.3)\n",
            "Downloading surprise-0.1-py2.py3-none-any.whl (1.8 kB)\n",
            "Building wheels for collected packages: scikit-surprise\n",
            "  Building wheel for scikit-surprise (pyproject.toml) ... \u001b[?25l\u001b[?25hdone\n",
            "  Created wheel for scikit-surprise: filename=scikit_surprise-1.1.4-cp311-cp311-linux_x86_64.whl size=2463218 sha256=a6f5ef5241d7a400e8a1bf27f2465fa805345c34a35b57ca7fa7f0825946e17f\n",
            "  Stored in directory: /root/.cache/pip/wheels/2a/8f/6e/7e2899163e2d85d8266daab4aa1cdabec7a6c56f83c015b5af\n",
            "Successfully built scikit-surprise\n",
            "Installing collected packages: scikit-surprise, surprise\n",
            "Successfully installed scikit-surprise-1.1.4 surprise-0.1\n"
          ]
        }
      ]
    },
    {
      "cell_type": "code",
      "source": [
        "# # Downgrade NumPy to a compatible version\n",
        "# !pip install numpy==1.26.4 --force-reinstall"
      ],
      "metadata": {
        "colab": {
          "base_uri": "https://localhost:8080/"
        },
        "collapsed": true,
        "id": "9Kiadwbeo8mU",
        "outputId": "46c6f81e-86e3-497b-b7c2-b88778a6897d"
      },
      "execution_count": null,
      "outputs": [
        {
          "output_type": "stream",
          "name": "stdout",
          "text": [
            "Collecting numpy==1.26.4\n",
            "  Using cached numpy-1.26.4-cp311-cp311-manylinux_2_17_x86_64.manylinux2014_x86_64.whl.metadata (61 kB)\n",
            "Using cached numpy-1.26.4-cp311-cp311-manylinux_2_17_x86_64.manylinux2014_x86_64.whl (18.3 MB)\n",
            "Installing collected packages: numpy\n",
            "  Attempting uninstall: numpy\n",
            "    Found existing installation: numpy 2.2.6\n",
            "    Uninstalling numpy-2.2.6:\n",
            "      Successfully uninstalled numpy-2.2.6\n",
            "\u001b[31mERROR: pip's dependency resolver does not currently take into account all the packages that are installed. This behaviour is the source of the following dependency conflicts.\n",
            "thinc 8.3.6 requires numpy<3.0.0,>=2.0.0, but you have numpy 1.26.4 which is incompatible.\u001b[0m\u001b[31m\n",
            "\u001b[0mSuccessfully installed numpy-1.26.4\n"
          ]
        }
      ]
    },
    {
      "cell_type": "code",
      "source": [
        "!pip install \"numpy<2\" --upgrade --force-reinstall"
      ],
      "metadata": {
        "colab": {
          "base_uri": "https://localhost:8080/"
        },
        "id": "UIPVRQ9c4tOK",
        "outputId": "91a5a33e-ff49-41c3-9e6f-98628ce045c5"
      },
      "execution_count": 2,
      "outputs": [
        {
          "output_type": "stream",
          "name": "stdout",
          "text": [
            "Collecting numpy<2\n",
            "  Downloading numpy-1.26.4-cp311-cp311-manylinux_2_17_x86_64.manylinux2014_x86_64.whl.metadata (61 kB)\n",
            "\u001b[?25l     \u001b[90m━━━━━━━━━━━━━━━━━━━━━━━━━━━━━━━━━━━━━━━━\u001b[0m \u001b[32m0.0/61.0 kB\u001b[0m \u001b[31m?\u001b[0m eta \u001b[36m-:--:--\u001b[0m\r\u001b[2K     \u001b[90m━━━━━━━━━━━━━━━━━━━━━━━━━━━━━━━━━━━━━━━━\u001b[0m \u001b[32m61.0/61.0 kB\u001b[0m \u001b[31m4.8 MB/s\u001b[0m eta \u001b[36m0:00:00\u001b[0m\n",
            "\u001b[?25hDownloading numpy-1.26.4-cp311-cp311-manylinux_2_17_x86_64.manylinux2014_x86_64.whl (18.3 MB)\n",
            "\u001b[2K   \u001b[90m━━━━━━━━━━━━━━━━━━━━━━━━━━━━━━━━━━━━━━━━\u001b[0m \u001b[32m18.3/18.3 MB\u001b[0m \u001b[31m94.3 MB/s\u001b[0m eta \u001b[36m0:00:00\u001b[0m\n",
            "\u001b[?25hInstalling collected packages: numpy\n",
            "  Attempting uninstall: numpy\n",
            "    Found existing installation: numpy 2.0.2\n",
            "    Uninstalling numpy-2.0.2:\n",
            "      Successfully uninstalled numpy-2.0.2\n",
            "\u001b[31mERROR: pip's dependency resolver does not currently take into account all the packages that are installed. This behaviour is the source of the following dependency conflicts.\n",
            "thinc 8.3.6 requires numpy<3.0.0,>=2.0.0, but you have numpy 1.26.4 which is incompatible.\u001b[0m\u001b[31m\n",
            "\u001b[0mSuccessfully installed numpy-1.26.4\n"
          ]
        }
      ]
    },
    {
      "cell_type": "code",
      "source": [
        "import pandas as pd\n",
        "import numpy as np\n",
        "import matplotlib.pyplot as plt\n",
        "import seaborn as sns\n",
        "import kagglehub\n",
        "import os\n",
        "import warnings\n",
        "warnings.filterwarnings('ignore')\n",
        "\n",
        "from sklearn.feature_extraction.text import TfidfVectorizer\n",
        "from sklearn.metrics.pairwise import cosine_similarity\n",
        "from sklearn.model_selection import train_test_split\n",
        "from sklearn.metrics import precision_score, recall_score\n",
        "\n",
        "from surprise import Dataset, Reader, SVD\n",
        "from surprise.model_selection import train_test_split, cross_validate\n",
        "from surprise.accuracy import rmse"
      ],
      "metadata": {
        "id": "Eqvdod8NoQlv"
      },
      "execution_count": 1,
      "outputs": []
    },
    {
      "cell_type": "code",
      "source": [
        "np.__version__"
      ],
      "metadata": {
        "colab": {
          "base_uri": "https://localhost:8080/",
          "height": 35
        },
        "id": "q2RL9jht4RJg",
        "outputId": "6267cf5c-68a8-40e1-df16-1b47c1aa80ac"
      },
      "execution_count": 2,
      "outputs": [
        {
          "output_type": "execute_result",
          "data": {
            "text/plain": [
              "'1.26.4'"
            ],
            "application/vnd.google.colaboratory.intrinsic+json": {
              "type": "string"
            }
          },
          "metadata": {},
          "execution_count": 2
        }
      ]
    },
    {
      "cell_type": "markdown",
      "source": [
        "## Data Understanding"
      ],
      "metadata": {
        "id": "FL2QobqorXN9"
      }
    },
    {
      "cell_type": "markdown",
      "source": [
        "Pada bagian ini kita mempelajari data yang akan kita proses. Kita akan melakukan load data dan EDA"
      ],
      "metadata": {
        "id": "sp47-2celCF6"
      }
    },
    {
      "cell_type": "markdown",
      "source": [
        "### Data Loading"
      ],
      "metadata": {
        "id": "FmQ7YkiHIV22"
      }
    },
    {
      "cell_type": "markdown",
      "source": [
        "Kita memasukkan dataset menggunakan library `kagglehub` dan `os` untuk input dataset. Setelah dataset diunduh maka kita masukkan ke dalam data frame sesuai dengan file masing-masing."
      ],
      "metadata": {
        "id": "csiGHhI0li5z"
      }
    },
    {
      "cell_type": "code",
      "source": [
        "path = kagglehub.dataset_download(\"CooperUnion/anime-recommendations-database\")\n",
        "\n",
        "print(\"Path to dataset files:\", path)"
      ],
      "metadata": {
        "colab": {
          "base_uri": "https://localhost:8080/"
        },
        "id": "3vvOJKIKrY9s",
        "outputId": "bc132421-8066-4d0d-ce33-9c2ca8244b5a"
      },
      "execution_count": 3,
      "outputs": [
        {
          "output_type": "stream",
          "name": "stdout",
          "text": [
            "Path to dataset files: /kaggle/input/anime-recommendations-database\n"
          ]
        }
      ]
    },
    {
      "cell_type": "code",
      "source": [
        "os.listdir(path)"
      ],
      "metadata": {
        "colab": {
          "base_uri": "https://localhost:8080/"
        },
        "id": "RdkI8XjZrbpF",
        "outputId": "c89146b9-da36-40b8-8d1e-da1ea6c7366b"
      },
      "execution_count": 4,
      "outputs": [
        {
          "output_type": "execute_result",
          "data": {
            "text/plain": [
              "['rating.csv', 'anime.csv']"
            ]
          },
          "metadata": {},
          "execution_count": 4
        }
      ]
    },
    {
      "cell_type": "code",
      "source": [
        "anime_df = pd.read_csv(path + \"/anime.csv\")\n",
        "rating_df = pd.read_csv(path + \"/rating.csv\")"
      ],
      "metadata": {
        "id": "C8UwXEWeyBXK"
      },
      "execution_count": 5,
      "outputs": []
    },
    {
      "cell_type": "markdown",
      "source": [
        "### EDA"
      ],
      "metadata": {
        "id": "XctzeU_GvfHt"
      }
    },
    {
      "cell_type": "markdown",
      "source": [
        "Disini kita melakukan eksplorasi tiap data frame. Dimana kita menggunakan `info()`, `shape`, `isnull()`, dll. untuk mengetahui informasi dataset secara lengkap dan apa saja langkah yang dapat kita lakukan."
      ],
      "metadata": {
        "id": "I8vUk1mGl43p"
      }
    },
    {
      "cell_type": "code",
      "execution_count": 6,
      "metadata": {
        "colab": {
          "base_uri": "https://localhost:8080/",
          "height": 275
        },
        "id": "6VfATf6ugArs",
        "outputId": "f303e8ad-9005-4311-cb65-a7e9d7f13e51"
      },
      "outputs": [
        {
          "output_type": "execute_result",
          "data": {
            "text/plain": [
              "   anime_id                              name  \\\n",
              "0     32281                    Kimi no Na wa.   \n",
              "1      5114  Fullmetal Alchemist: Brotherhood   \n",
              "2     28977                          Gintama°   \n",
              "3      9253                       Steins;Gate   \n",
              "4      9969                     Gintama&#039;   \n",
              "\n",
              "                                               genre   type episodes  rating  \\\n",
              "0               Drama, Romance, School, Supernatural  Movie        1    9.37   \n",
              "1  Action, Adventure, Drama, Fantasy, Magic, Mili...     TV       64    9.26   \n",
              "2  Action, Comedy, Historical, Parody, Samurai, S...     TV       51    9.25   \n",
              "3                                   Sci-Fi, Thriller     TV       24    9.17   \n",
              "4  Action, Comedy, Historical, Parody, Samurai, S...     TV       51    9.16   \n",
              "\n",
              "   members  \n",
              "0   200630  \n",
              "1   793665  \n",
              "2   114262  \n",
              "3   673572  \n",
              "4   151266  "
            ],
            "text/html": [
              "\n",
              "  <div id=\"df-a3f81f17-ae0a-49f9-aace-6ab6d373f171\" class=\"colab-df-container\">\n",
              "    <div>\n",
              "<style scoped>\n",
              "    .dataframe tbody tr th:only-of-type {\n",
              "        vertical-align: middle;\n",
              "    }\n",
              "\n",
              "    .dataframe tbody tr th {\n",
              "        vertical-align: top;\n",
              "    }\n",
              "\n",
              "    .dataframe thead th {\n",
              "        text-align: right;\n",
              "    }\n",
              "</style>\n",
              "<table border=\"1\" class=\"dataframe\">\n",
              "  <thead>\n",
              "    <tr style=\"text-align: right;\">\n",
              "      <th></th>\n",
              "      <th>anime_id</th>\n",
              "      <th>name</th>\n",
              "      <th>genre</th>\n",
              "      <th>type</th>\n",
              "      <th>episodes</th>\n",
              "      <th>rating</th>\n",
              "      <th>members</th>\n",
              "    </tr>\n",
              "  </thead>\n",
              "  <tbody>\n",
              "    <tr>\n",
              "      <th>0</th>\n",
              "      <td>32281</td>\n",
              "      <td>Kimi no Na wa.</td>\n",
              "      <td>Drama, Romance, School, Supernatural</td>\n",
              "      <td>Movie</td>\n",
              "      <td>1</td>\n",
              "      <td>9.37</td>\n",
              "      <td>200630</td>\n",
              "    </tr>\n",
              "    <tr>\n",
              "      <th>1</th>\n",
              "      <td>5114</td>\n",
              "      <td>Fullmetal Alchemist: Brotherhood</td>\n",
              "      <td>Action, Adventure, Drama, Fantasy, Magic, Mili...</td>\n",
              "      <td>TV</td>\n",
              "      <td>64</td>\n",
              "      <td>9.26</td>\n",
              "      <td>793665</td>\n",
              "    </tr>\n",
              "    <tr>\n",
              "      <th>2</th>\n",
              "      <td>28977</td>\n",
              "      <td>Gintama°</td>\n",
              "      <td>Action, Comedy, Historical, Parody, Samurai, S...</td>\n",
              "      <td>TV</td>\n",
              "      <td>51</td>\n",
              "      <td>9.25</td>\n",
              "      <td>114262</td>\n",
              "    </tr>\n",
              "    <tr>\n",
              "      <th>3</th>\n",
              "      <td>9253</td>\n",
              "      <td>Steins;Gate</td>\n",
              "      <td>Sci-Fi, Thriller</td>\n",
              "      <td>TV</td>\n",
              "      <td>24</td>\n",
              "      <td>9.17</td>\n",
              "      <td>673572</td>\n",
              "    </tr>\n",
              "    <tr>\n",
              "      <th>4</th>\n",
              "      <td>9969</td>\n",
              "      <td>Gintama&amp;#039;</td>\n",
              "      <td>Action, Comedy, Historical, Parody, Samurai, S...</td>\n",
              "      <td>TV</td>\n",
              "      <td>51</td>\n",
              "      <td>9.16</td>\n",
              "      <td>151266</td>\n",
              "    </tr>\n",
              "  </tbody>\n",
              "</table>\n",
              "</div>\n",
              "    <div class=\"colab-df-buttons\">\n",
              "\n",
              "  <div class=\"colab-df-container\">\n",
              "    <button class=\"colab-df-convert\" onclick=\"convertToInteractive('df-a3f81f17-ae0a-49f9-aace-6ab6d373f171')\"\n",
              "            title=\"Convert this dataframe to an interactive table.\"\n",
              "            style=\"display:none;\">\n",
              "\n",
              "  <svg xmlns=\"http://www.w3.org/2000/svg\" height=\"24px\" viewBox=\"0 -960 960 960\">\n",
              "    <path d=\"M120-120v-720h720v720H120Zm60-500h600v-160H180v160Zm220 220h160v-160H400v160Zm0 220h160v-160H400v160ZM180-400h160v-160H180v160Zm440 0h160v-160H620v160ZM180-180h160v-160H180v160Zm440 0h160v-160H620v160Z\"/>\n",
              "  </svg>\n",
              "    </button>\n",
              "\n",
              "  <style>\n",
              "    .colab-df-container {\n",
              "      display:flex;\n",
              "      gap: 12px;\n",
              "    }\n",
              "\n",
              "    .colab-df-convert {\n",
              "      background-color: #E8F0FE;\n",
              "      border: none;\n",
              "      border-radius: 50%;\n",
              "      cursor: pointer;\n",
              "      display: none;\n",
              "      fill: #1967D2;\n",
              "      height: 32px;\n",
              "      padding: 0 0 0 0;\n",
              "      width: 32px;\n",
              "    }\n",
              "\n",
              "    .colab-df-convert:hover {\n",
              "      background-color: #E2EBFA;\n",
              "      box-shadow: 0px 1px 2px rgba(60, 64, 67, 0.3), 0px 1px 3px 1px rgba(60, 64, 67, 0.15);\n",
              "      fill: #174EA6;\n",
              "    }\n",
              "\n",
              "    .colab-df-buttons div {\n",
              "      margin-bottom: 4px;\n",
              "    }\n",
              "\n",
              "    [theme=dark] .colab-df-convert {\n",
              "      background-color: #3B4455;\n",
              "      fill: #D2E3FC;\n",
              "    }\n",
              "\n",
              "    [theme=dark] .colab-df-convert:hover {\n",
              "      background-color: #434B5C;\n",
              "      box-shadow: 0px 1px 3px 1px rgba(0, 0, 0, 0.15);\n",
              "      filter: drop-shadow(0px 1px 2px rgba(0, 0, 0, 0.3));\n",
              "      fill: #FFFFFF;\n",
              "    }\n",
              "  </style>\n",
              "\n",
              "    <script>\n",
              "      const buttonEl =\n",
              "        document.querySelector('#df-a3f81f17-ae0a-49f9-aace-6ab6d373f171 button.colab-df-convert');\n",
              "      buttonEl.style.display =\n",
              "        google.colab.kernel.accessAllowed ? 'block' : 'none';\n",
              "\n",
              "      async function convertToInteractive(key) {\n",
              "        const element = document.querySelector('#df-a3f81f17-ae0a-49f9-aace-6ab6d373f171');\n",
              "        const dataTable =\n",
              "          await google.colab.kernel.invokeFunction('convertToInteractive',\n",
              "                                                    [key], {});\n",
              "        if (!dataTable) return;\n",
              "\n",
              "        const docLinkHtml = 'Like what you see? Visit the ' +\n",
              "          '<a target=\"_blank\" href=https://colab.research.google.com/notebooks/data_table.ipynb>data table notebook</a>'\n",
              "          + ' to learn more about interactive tables.';\n",
              "        element.innerHTML = '';\n",
              "        dataTable['output_type'] = 'display_data';\n",
              "        await google.colab.output.renderOutput(dataTable, element);\n",
              "        const docLink = document.createElement('div');\n",
              "        docLink.innerHTML = docLinkHtml;\n",
              "        element.appendChild(docLink);\n",
              "      }\n",
              "    </script>\n",
              "  </div>\n",
              "\n",
              "\n",
              "    <div id=\"df-b91abf87-a635-4083-b36d-30833178ce78\">\n",
              "      <button class=\"colab-df-quickchart\" onclick=\"quickchart('df-b91abf87-a635-4083-b36d-30833178ce78')\"\n",
              "                title=\"Suggest charts\"\n",
              "                style=\"display:none;\">\n",
              "\n",
              "<svg xmlns=\"http://www.w3.org/2000/svg\" height=\"24px\"viewBox=\"0 0 24 24\"\n",
              "     width=\"24px\">\n",
              "    <g>\n",
              "        <path d=\"M19 3H5c-1.1 0-2 .9-2 2v14c0 1.1.9 2 2 2h14c1.1 0 2-.9 2-2V5c0-1.1-.9-2-2-2zM9 17H7v-7h2v7zm4 0h-2V7h2v10zm4 0h-2v-4h2v4z\"/>\n",
              "    </g>\n",
              "</svg>\n",
              "      </button>\n",
              "\n",
              "<style>\n",
              "  .colab-df-quickchart {\n",
              "      --bg-color: #E8F0FE;\n",
              "      --fill-color: #1967D2;\n",
              "      --hover-bg-color: #E2EBFA;\n",
              "      --hover-fill-color: #174EA6;\n",
              "      --disabled-fill-color: #AAA;\n",
              "      --disabled-bg-color: #DDD;\n",
              "  }\n",
              "\n",
              "  [theme=dark] .colab-df-quickchart {\n",
              "      --bg-color: #3B4455;\n",
              "      --fill-color: #D2E3FC;\n",
              "      --hover-bg-color: #434B5C;\n",
              "      --hover-fill-color: #FFFFFF;\n",
              "      --disabled-bg-color: #3B4455;\n",
              "      --disabled-fill-color: #666;\n",
              "  }\n",
              "\n",
              "  .colab-df-quickchart {\n",
              "    background-color: var(--bg-color);\n",
              "    border: none;\n",
              "    border-radius: 50%;\n",
              "    cursor: pointer;\n",
              "    display: none;\n",
              "    fill: var(--fill-color);\n",
              "    height: 32px;\n",
              "    padding: 0;\n",
              "    width: 32px;\n",
              "  }\n",
              "\n",
              "  .colab-df-quickchart:hover {\n",
              "    background-color: var(--hover-bg-color);\n",
              "    box-shadow: 0 1px 2px rgba(60, 64, 67, 0.3), 0 1px 3px 1px rgba(60, 64, 67, 0.15);\n",
              "    fill: var(--button-hover-fill-color);\n",
              "  }\n",
              "\n",
              "  .colab-df-quickchart-complete:disabled,\n",
              "  .colab-df-quickchart-complete:disabled:hover {\n",
              "    background-color: var(--disabled-bg-color);\n",
              "    fill: var(--disabled-fill-color);\n",
              "    box-shadow: none;\n",
              "  }\n",
              "\n",
              "  .colab-df-spinner {\n",
              "    border: 2px solid var(--fill-color);\n",
              "    border-color: transparent;\n",
              "    border-bottom-color: var(--fill-color);\n",
              "    animation:\n",
              "      spin 1s steps(1) infinite;\n",
              "  }\n",
              "\n",
              "  @keyframes spin {\n",
              "    0% {\n",
              "      border-color: transparent;\n",
              "      border-bottom-color: var(--fill-color);\n",
              "      border-left-color: var(--fill-color);\n",
              "    }\n",
              "    20% {\n",
              "      border-color: transparent;\n",
              "      border-left-color: var(--fill-color);\n",
              "      border-top-color: var(--fill-color);\n",
              "    }\n",
              "    30% {\n",
              "      border-color: transparent;\n",
              "      border-left-color: var(--fill-color);\n",
              "      border-top-color: var(--fill-color);\n",
              "      border-right-color: var(--fill-color);\n",
              "    }\n",
              "    40% {\n",
              "      border-color: transparent;\n",
              "      border-right-color: var(--fill-color);\n",
              "      border-top-color: var(--fill-color);\n",
              "    }\n",
              "    60% {\n",
              "      border-color: transparent;\n",
              "      border-right-color: var(--fill-color);\n",
              "    }\n",
              "    80% {\n",
              "      border-color: transparent;\n",
              "      border-right-color: var(--fill-color);\n",
              "      border-bottom-color: var(--fill-color);\n",
              "    }\n",
              "    90% {\n",
              "      border-color: transparent;\n",
              "      border-bottom-color: var(--fill-color);\n",
              "    }\n",
              "  }\n",
              "</style>\n",
              "\n",
              "      <script>\n",
              "        async function quickchart(key) {\n",
              "          const quickchartButtonEl =\n",
              "            document.querySelector('#' + key + ' button');\n",
              "          quickchartButtonEl.disabled = true;  // To prevent multiple clicks.\n",
              "          quickchartButtonEl.classList.add('colab-df-spinner');\n",
              "          try {\n",
              "            const charts = await google.colab.kernel.invokeFunction(\n",
              "                'suggestCharts', [key], {});\n",
              "          } catch (error) {\n",
              "            console.error('Error during call to suggestCharts:', error);\n",
              "          }\n",
              "          quickchartButtonEl.classList.remove('colab-df-spinner');\n",
              "          quickchartButtonEl.classList.add('colab-df-quickchart-complete');\n",
              "        }\n",
              "        (() => {\n",
              "          let quickchartButtonEl =\n",
              "            document.querySelector('#df-b91abf87-a635-4083-b36d-30833178ce78 button');\n",
              "          quickchartButtonEl.style.display =\n",
              "            google.colab.kernel.accessAllowed ? 'block' : 'none';\n",
              "        })();\n",
              "      </script>\n",
              "    </div>\n",
              "\n",
              "    </div>\n",
              "  </div>\n"
            ],
            "application/vnd.google.colaboratory.intrinsic+json": {
              "type": "dataframe",
              "variable_name": "anime_df",
              "summary": "{\n  \"name\": \"anime_df\",\n  \"rows\": 12294,\n  \"fields\": [\n    {\n      \"column\": \"anime_id\",\n      \"properties\": {\n        \"dtype\": \"number\",\n        \"std\": 11455,\n        \"min\": 1,\n        \"max\": 34527,\n        \"num_unique_values\": 12294,\n        \"samples\": [\n          17209,\n          173,\n          3616\n        ],\n        \"semantic_type\": \"\",\n        \"description\": \"\"\n      }\n    },\n    {\n      \"column\": \"name\",\n      \"properties\": {\n        \"dtype\": \"string\",\n        \"num_unique_values\": 12292,\n        \"samples\": [\n          \"Nils no Fushigi na Tabi (Movie)\",\n          \"Tactics\",\n          \"Kamen no Maid Guy\"\n        ],\n        \"semantic_type\": \"\",\n        \"description\": \"\"\n      }\n    },\n    {\n      \"column\": \"genre\",\n      \"properties\": {\n        \"dtype\": \"category\",\n        \"num_unique_values\": 3264,\n        \"samples\": [\n          \"Horror, Supernatural\",\n          \"Action, Adventure, Comedy, Demons, Fantasy, Magic, Romance, Shounen, Supernatural\",\n          \"Action, Comedy, Harem, Parody, Romance\"\n        ],\n        \"semantic_type\": \"\",\n        \"description\": \"\"\n      }\n    },\n    {\n      \"column\": \"type\",\n      \"properties\": {\n        \"dtype\": \"category\",\n        \"num_unique_values\": 6,\n        \"samples\": [\n          \"Movie\",\n          \"TV\",\n          \"ONA\"\n        ],\n        \"semantic_type\": \"\",\n        \"description\": \"\"\n      }\n    },\n    {\n      \"column\": \"episodes\",\n      \"properties\": {\n        \"dtype\": \"category\",\n        \"num_unique_values\": 187,\n        \"samples\": [\n          \"141\",\n          \"54\",\n          \"52\"\n        ],\n        \"semantic_type\": \"\",\n        \"description\": \"\"\n      }\n    },\n    {\n      \"column\": \"rating\",\n      \"properties\": {\n        \"dtype\": \"number\",\n        \"std\": 1.0267463068980598,\n        \"min\": 1.67,\n        \"max\": 10.0,\n        \"num_unique_values\": 598,\n        \"samples\": [\n          7.87,\n          6.11,\n          4.1\n        ],\n        \"semantic_type\": \"\",\n        \"description\": \"\"\n      }\n    },\n    {\n      \"column\": \"members\",\n      \"properties\": {\n        \"dtype\": \"number\",\n        \"std\": 54820,\n        \"min\": 5,\n        \"max\": 1013917,\n        \"num_unique_values\": 6706,\n        \"samples\": [\n          170754,\n          1515,\n          66376\n        ],\n        \"semantic_type\": \"\",\n        \"description\": \"\"\n      }\n    }\n  ]\n}"
            }
          },
          "metadata": {},
          "execution_count": 6
        }
      ],
      "source": [
        "# Anime Data Frame preview\n",
        "anime_df.head()"
      ]
    },
    {
      "cell_type": "markdown",
      "source": [
        "Berdasarkan pada tabel di atas, kita dapat melihat bahwa dataset terdiri dari kolom `anime_id`, `name`, `genre`, `type`, `episodes`, `rating`, dan `members`. <br> `anime_id` : nomor identifikasi tiap anime pada situs MyAnimeList <br> `name` : nama anime <br> `genre` : jenis genre anime <br> `type` : jenis anime tersebut seperti movie atau pun TV series <br> `episodes` : jumlah episode <br> `rating` : nilai rating anime tersebut <br> `members` : jumlah member MAL yang memberikan rating\n"
      ],
      "metadata": {
        "id": "jq36zrnGzgai"
      }
    },
    {
      "cell_type": "code",
      "source": [
        "# Anime df info\n",
        "anime_df.info()\n",
        "print(\"\\nShape:\", anime_df.shape)\n",
        "print(\"\\nMissing Values:\\n\", anime_df.isnull().sum())"
      ],
      "metadata": {
        "colab": {
          "base_uri": "https://localhost:8080/"
        },
        "id": "UBCTj5MRCQzy",
        "outputId": "d0b8d9b0-e154-424c-86ba-6af790f0efe3"
      },
      "execution_count": 7,
      "outputs": [
        {
          "output_type": "stream",
          "name": "stdout",
          "text": [
            "<class 'pandas.core.frame.DataFrame'>\n",
            "RangeIndex: 12294 entries, 0 to 12293\n",
            "Data columns (total 7 columns):\n",
            " #   Column    Non-Null Count  Dtype  \n",
            "---  ------    --------------  -----  \n",
            " 0   anime_id  12294 non-null  int64  \n",
            " 1   name      12294 non-null  object \n",
            " 2   genre     12232 non-null  object \n",
            " 3   type      12269 non-null  object \n",
            " 4   episodes  12294 non-null  object \n",
            " 5   rating    12064 non-null  float64\n",
            " 6   members   12294 non-null  int64  \n",
            "dtypes: float64(1), int64(2), object(4)\n",
            "memory usage: 672.5+ KB\n",
            "\n",
            "Shape: (12294, 7)\n",
            "\n",
            "Missing Values:\n",
            " anime_id      0\n",
            "name          0\n",
            "genre        62\n",
            "type         25\n",
            "episodes      0\n",
            "rating      230\n",
            "members       0\n",
            "dtype: int64\n"
          ]
        }
      ]
    },
    {
      "cell_type": "markdown",
      "source": [
        "Data di atas memberikan informasi bahwa dataset anime df ini memiliki tipe data integer, object, dan float. Dengan shape dataset terdiri dari 12294 baris dan 7 kolom, dan terdapat null pada kolom genre, type, dan rating."
      ],
      "metadata": {
        "id": "zcUzQhJ90203"
      }
    },
    {
      "cell_type": "code",
      "source": [
        "# Average Rating of Anime\n",
        "plt.figure(figsize=(8, 3))\n",
        "sns.histplot(anime_df['rating'].dropna(), bins=30, kde=True, color='skyblue')\n",
        "plt.title('Distribution of Average Ratings (anime_df)', fontsize=13)\n",
        "plt.xlabel('Rating')\n",
        "plt.ylabel('Number of Anime')\n",
        "\n",
        "# Distribution of Anime Episodes\n",
        "plt.figure(figsize=(8, 3))\n",
        "anime_df['episodes'] = pd.to_numeric(anime_df['episodes'], errors='coerce')\n",
        "bins = [1, 2, 13, 25, 50, 100]\n",
        "labels = ['1 (Movies)', '2-12', '13-24', '25-50', '50+']\n",
        "episode_cats = pd.cut(anime_df['episodes'].dropna(),\n",
        "                     bins=bins,\n",
        "                     labels=labels,\n",
        "                     right=False)\n",
        "sns.countplot(x=episode_cats, order=labels, color='skyblue')\n",
        "plt.title('Anime Episode Distribution')\n",
        "plt.xlabel('Number of Episodes')\n",
        "plt.ylabel('Count')\n",
        "\n",
        "# Distribution of Anime Types\n",
        "plt.figure(figsize=(8, 3))\n",
        "sns.countplot(data=anime_df, x='type', order=anime_df['type'].value_counts().index, palette='bright')\n",
        "plt.title('Anime Type Count')\n",
        "plt.xlabel('Type')\n",
        "plt.ylabel('Count')\n",
        "\n",
        "plt.xticks(rotation=45)\n",
        "plt.tight_layout()\n",
        "plt.show()"
      ],
      "metadata": {
        "colab": {
          "base_uri": "https://localhost:8080/",
          "height": 939
        },
        "id": "siI2y3vlyrSl",
        "outputId": "2bd01231-96b2-4eb7-fcc1-426f77556ea8"
      },
      "execution_count": 8,
      "outputs": [
        {
          "output_type": "display_data",
          "data": {
            "text/plain": [
              "<Figure size 800x300 with 1 Axes>"
            ],
            "image/png": "[encoded data removed]"
          },
          "metadata": {}
        },
        {
          "output_type": "display_data",
          "data": {
            "text/plain": [
              "<Figure size 800x300 with 1 Axes>"
            ],
            "image/png": "[encoded data removed]"
          },
          "metadata": {}
        },
        {
          "output_type": "display_data",
          "data": {
            "text/plain": [
              "<Figure size 800x300 with 1 Axes>"
            ],
            "image/png": "[encoded data removed]"
          },
          "metadata": {}
        }
      ]
    },
    {
      "cell_type": "markdown",
      "source": [
        "Berdasarkan plot yang ditampilkan di atas, dapat kita simpulkan bahwa berdasarkan data frame anime df ini:\n",
        "1. Jumlah rating paling banyak ada di rentan 6-8\n",
        "2. Jumlah episode paling banyak adalah 1 atau movie lalu disusul oleh dengan jumlah episode 2-12\n",
        "3. Jenis anime paling banyak adalah TV series lalu disusul oleh OVA"
      ],
      "metadata": {
        "id": "5UtQVLD41PPj"
      }
    },
    {
      "cell_type": "code",
      "source": [
        "# Rating Data Frame Preview\n",
        "rating_df.head()"
      ],
      "metadata": {
        "colab": {
          "base_uri": "https://localhost:8080/",
          "height": 206
        },
        "id": "9r25w_Xki3Yq",
        "outputId": "0dc23b3b-68c0-482a-96a4-95de33498b70"
      },
      "execution_count": 9,
      "outputs": [
        {
          "output_type": "execute_result",
          "data": {
            "text/plain": [
              "   user_id  anime_id  rating\n",
              "0        1        20      -1\n",
              "1        1        24      -1\n",
              "2        1        79      -1\n",
              "3        1       226      -1\n",
              "4        1       241      -1"
            ],
            "text/html": [
              "\n",
              "  <div id=\"df-94282d33-3d9e-4a35-8146-8249e8792015\" class=\"colab-df-container\">\n",
              "    <div>\n",
              "<style scoped>\n",
              "    .dataframe tbody tr th:only-of-type {\n",
              "        vertical-align: middle;\n",
              "    }\n",
              "\n",
              "    .dataframe tbody tr th {\n",
              "        vertical-align: top;\n",
              "    }\n",
              "\n",
              "    .dataframe thead th {\n",
              "        text-align: right;\n",
              "    }\n",
              "</style>\n",
              "<table border=\"1\" class=\"dataframe\">\n",
              "  <thead>\n",
              "    <tr style=\"text-align: right;\">\n",
              "      <th></th>\n",
              "      <th>user_id</th>\n",
              "      <th>anime_id</th>\n",
              "      <th>rating</th>\n",
              "    </tr>\n",
              "  </thead>\n",
              "  <tbody>\n",
              "    <tr>\n",
              "      <th>0</th>\n",
              "      <td>1</td>\n",
              "      <td>20</td>\n",
              "      <td>-1</td>\n",
              "    </tr>\n",
              "    <tr>\n",
              "      <th>1</th>\n",
              "      <td>1</td>\n",
              "      <td>24</td>\n",
              "      <td>-1</td>\n",
              "    </tr>\n",
              "    <tr>\n",
              "      <th>2</th>\n",
              "      <td>1</td>\n",
              "      <td>79</td>\n",
              "      <td>-1</td>\n",
              "    </tr>\n",
              "    <tr>\n",
              "      <th>3</th>\n",
              "      <td>1</td>\n",
              "      <td>226</td>\n",
              "      <td>-1</td>\n",
              "    </tr>\n",
              "    <tr>\n",
              "      <th>4</th>\n",
              "      <td>1</td>\n",
              "      <td>241</td>\n",
              "      <td>-1</td>\n",
              "    </tr>\n",
              "  </tbody>\n",
              "</table>\n",
              "</div>\n",
              "    <div class=\"colab-df-buttons\">\n",
              "\n",
              "  <div class=\"colab-df-container\">\n",
              "    <button class=\"colab-df-convert\" onclick=\"convertToInteractive('df-94282d33-3d9e-4a35-8146-8249e8792015')\"\n",
              "            title=\"Convert this dataframe to an interactive table.\"\n",
              "            style=\"display:none;\">\n",
              "\n",
              "  <svg xmlns=\"http://www.w3.org/2000/svg\" height=\"24px\" viewBox=\"0 -960 960 960\">\n",
              "    <path d=\"M120-120v-720h720v720H120Zm60-500h600v-160H180v160Zm220 220h160v-160H400v160Zm0 220h160v-160H400v160ZM180-400h160v-160H180v160Zm440 0h160v-160H620v160ZM180-180h160v-160H180v160Zm440 0h160v-160H620v160Z\"/>\n",
              "  </svg>\n",
              "    </button>\n",
              "\n",
              "  <style>\n",
              "    .colab-df-container {\n",
              "      display:flex;\n",
              "      gap: 12px;\n",
              "    }\n",
              "\n",
              "    .colab-df-convert {\n",
              "      background-color: #E8F0FE;\n",
              "      border: none;\n",
              "      border-radius: 50%;\n",
              "      cursor: pointer;\n",
              "      display: none;\n",
              "      fill: #1967D2;\n",
              "      height: 32px;\n",
              "      padding: 0 0 0 0;\n",
              "      width: 32px;\n",
              "    }\n",
              "\n",
              "    .colab-df-convert:hover {\n",
              "      background-color: #E2EBFA;\n",
              "      box-shadow: 0px 1px 2px rgba(60, 64, 67, 0.3), 0px 1px 3px 1px rgba(60, 64, 67, 0.15);\n",
              "      fill: #174EA6;\n",
              "    }\n",
              "\n",
              "    .colab-df-buttons div {\n",
              "      margin-bottom: 4px;\n",
              "    }\n",
              "\n",
              "    [theme=dark] .colab-df-convert {\n",
              "      background-color: #3B4455;\n",
              "      fill: #D2E3FC;\n",
              "    }\n",
              "\n",
              "    [theme=dark] .colab-df-convert:hover {\n",
              "      background-color: #434B5C;\n",
              "      box-shadow: 0px 1px 3px 1px rgba(0, 0, 0, 0.15);\n",
              "      filter: drop-shadow(0px 1px 2px rgba(0, 0, 0, 0.3));\n",
              "      fill: #FFFFFF;\n",
              "    }\n",
              "  </style>\n",
              "\n",
              "    <script>\n",
              "      const buttonEl =\n",
              "        document.querySelector('#df-94282d33-3d9e-4a35-8146-8249e8792015 button.colab-df-convert');\n",
              "      buttonEl.style.display =\n",
              "        google.colab.kernel.accessAllowed ? 'block' : 'none';\n",
              "\n",
              "      async function convertToInteractive(key) {\n",
              "        const element = document.querySelector('#df-94282d33-3d9e-4a35-8146-8249e8792015');\n",
              "        const dataTable =\n",
              "          await google.colab.kernel.invokeFunction('convertToInteractive',\n",
              "                                                    [key], {});\n",
              "        if (!dataTable) return;\n",
              "\n",
              "        const docLinkHtml = 'Like what you see? Visit the ' +\n",
              "          '<a target=\"_blank\" href=https://colab.research.google.com/notebooks/data_table.ipynb>data table notebook</a>'\n",
              "          + ' to learn more about interactive tables.';\n",
              "        element.innerHTML = '';\n",
              "        dataTable['output_type'] = 'display_data';\n",
              "        await google.colab.output.renderOutput(dataTable, element);\n",
              "        const docLink = document.createElement('div');\n",
              "        docLink.innerHTML = docLinkHtml;\n",
              "        element.appendChild(docLink);\n",
              "      }\n",
              "    </script>\n",
              "  </div>\n",
              "\n",
              "\n",
              "    <div id=\"df-f3b70bf2-a89f-483b-bb83-3af6a3ee1a26\">\n",
              "      <button class=\"colab-df-quickchart\" onclick=\"quickchart('df-f3b70bf2-a89f-483b-bb83-3af6a3ee1a26')\"\n",
              "                title=\"Suggest charts\"\n",
              "                style=\"display:none;\">\n",
              "\n",
              "<svg xmlns=\"http://www.w3.org/2000/svg\" height=\"24px\"viewBox=\"0 0 24 24\"\n",
              "     width=\"24px\">\n",
              "    <g>\n",
              "        <path d=\"M19 3H5c-1.1 0-2 .9-2 2v14c0 1.1.9 2 2 2h14c1.1 0 2-.9 2-2V5c0-1.1-.9-2-2-2zM9 17H7v-7h2v7zm4 0h-2V7h2v10zm4 0h-2v-4h2v4z\"/>\n",
              "    </g>\n",
              "</svg>\n",
              "      </button>\n",
              "\n",
              "<style>\n",
              "  .colab-df-quickchart {\n",
              "      --bg-color: #E8F0FE;\n",
              "      --fill-color: #1967D2;\n",
              "      --hover-bg-color: #E2EBFA;\n",
              "      --hover-fill-color: #174EA6;\n",
              "      --disabled-fill-color: #AAA;\n",
              "      --disabled-bg-color: #DDD;\n",
              "  }\n",
              "\n",
              "  [theme=dark] .colab-df-quickchart {\n",
              "      --bg-color: #3B4455;\n",
              "      --fill-color: #D2E3FC;\n",
              "      --hover-bg-color: #434B5C;\n",
              "      --hover-fill-color: #FFFFFF;\n",
              "      --disabled-bg-color: #3B4455;\n",
              "      --disabled-fill-color: #666;\n",
              "  }\n",
              "\n",
              "  .colab-df-quickchart {\n",
              "    background-color: var(--bg-color);\n",
              "    border: none;\n",
              "    border-radius: 50%;\n",
              "    cursor: pointer;\n",
              "    display: none;\n",
              "    fill: var(--fill-color);\n",
              "    height: 32px;\n",
              "    padding: 0;\n",
              "    width: 32px;\n",
              "  }\n",
              "\n",
              "  .colab-df-quickchart:hover {\n",
              "    background-color: var(--hover-bg-color);\n",
              "    box-shadow: 0 1px 2px rgba(60, 64, 67, 0.3), 0 1px 3px 1px rgba(60, 64, 67, 0.15);\n",
              "    fill: var(--button-hover-fill-color);\n",
              "  }\n",
              "\n",
              "  .colab-df-quickchart-complete:disabled,\n",
              "  .colab-df-quickchart-complete:disabled:hover {\n",
              "    background-color: var(--disabled-bg-color);\n",
              "    fill: var(--disabled-fill-color);\n",
              "    box-shadow: none;\n",
              "  }\n",
              "\n",
              "  .colab-df-spinner {\n",
              "    border: 2px solid var(--fill-color);\n",
              "    border-color: transparent;\n",
              "    border-bottom-color: var(--fill-color);\n",
              "    animation:\n",
              "      spin 1s steps(1) infinite;\n",
              "  }\n",
              "\n",
              "  @keyframes spin {\n",
              "    0% {\n",
              "      border-color: transparent;\n",
              "      border-bottom-color: var(--fill-color);\n",
              "      border-left-color: var(--fill-color);\n",
              "    }\n",
              "    20% {\n",
              "      border-color: transparent;\n",
              "      border-left-color: var(--fill-color);\n",
              "      border-top-color: var(--fill-color);\n",
              "    }\n",
              "    30% {\n",
              "      border-color: transparent;\n",
              "      border-left-color: var(--fill-color);\n",
              "      border-top-color: var(--fill-color);\n",
              "      border-right-color: var(--fill-color);\n",
              "    }\n",
              "    40% {\n",
              "      border-color: transparent;\n",
              "      border-right-color: var(--fill-color);\n",
              "      border-top-color: var(--fill-color);\n",
              "    }\n",
              "    60% {\n",
              "      border-color: transparent;\n",
              "      border-right-color: var(--fill-color);\n",
              "    }\n",
              "    80% {\n",
              "      border-color: transparent;\n",
              "      border-right-color: var(--fill-color);\n",
              "      border-bottom-color: var(--fill-color);\n",
              "    }\n",
              "    90% {\n",
              "      border-color: transparent;\n",
              "      border-bottom-color: var(--fill-color);\n",
              "    }\n",
              "  }\n",
              "</style>\n",
              "\n",
              "      <script>\n",
              "        async function quickchart(key) {\n",
              "          const quickchartButtonEl =\n",
              "            document.querySelector('#' + key + ' button');\n",
              "          quickchartButtonEl.disabled = true;  // To prevent multiple clicks.\n",
              "          quickchartButtonEl.classList.add('colab-df-spinner');\n",
              "          try {\n",
              "            const charts = await google.colab.kernel.invokeFunction(\n",
              "                'suggestCharts', [key], {});\n",
              "          } catch (error) {\n",
              "            console.error('Error during call to suggestCharts:', error);\n",
              "          }\n",
              "          quickchartButtonEl.classList.remove('colab-df-spinner');\n",
              "          quickchartButtonEl.classList.add('colab-df-quickchart-complete');\n",
              "        }\n",
              "        (() => {\n",
              "          let quickchartButtonEl =\n",
              "            document.querySelector('#df-f3b70bf2-a89f-483b-bb83-3af6a3ee1a26 button');\n",
              "          quickchartButtonEl.style.display =\n",
              "            google.colab.kernel.accessAllowed ? 'block' : 'none';\n",
              "        })();\n",
              "      </script>\n",
              "    </div>\n",
              "\n",
              "    </div>\n",
              "  </div>\n"
            ],
            "application/vnd.google.colaboratory.intrinsic+json": {
              "type": "dataframe",
              "variable_name": "rating_df"
            }
          },
          "metadata": {},
          "execution_count": 9
        }
      ]
    },
    {
      "cell_type": "markdown",
      "source": [
        "Pada rating df ini terdiri dari kolom: <br> `user_id` : Random generated user id <br> `anime_id` : Id number yang diberikan rating oleh user\n",
        "<br> `rating` : Rating sampai 10 dimana jika value -1 berarti user tersebut menonton tapi tidak memberikan rating."
      ],
      "metadata": {
        "id": "yRd-ywp77YoS"
      }
    },
    {
      "cell_type": "code",
      "source": [
        "# Rating Data Frame info\n",
        "rating_df.info()\n",
        "print(\"\\nShape:\", rating_df.shape)\n",
        "print(\"\\nMissing Values:\\n\", rating_df.isnull().sum())"
      ],
      "metadata": {
        "colab": {
          "base_uri": "https://localhost:8080/"
        },
        "id": "5epTY8RFFShj",
        "outputId": "3040522a-6508-4472-bac9-f8452c6df10a"
      },
      "execution_count": null,
      "outputs": [
        {
          "output_type": "stream",
          "name": "stdout",
          "text": [
            "<class 'pandas.core.frame.DataFrame'>\n",
            "RangeIndex: 7813737 entries, 0 to 7813736\n",
            "Data columns (total 3 columns):\n",
            " #   Column    Dtype\n",
            "---  ------    -----\n",
            " 0   user_id   int64\n",
            " 1   anime_id  int64\n",
            " 2   rating    int64\n",
            "dtypes: int64(3)\n",
            "memory usage: 178.8 MB\n",
            "\n",
            "Shape: (7813737, 3)\n",
            "\n",
            "Missing Values:\n",
            " user_id     0\n",
            "anime_id    0\n",
            "rating      0\n",
            "dtype: int64\n"
          ]
        }
      ]
    },
    {
      "cell_type": "markdown",
      "source": [
        "Berdasarkan informasi di atas, dapat diketahui bahwa rating df ini memiliki tipe data integer dengan shape 7813737 baris dan 3 kolom, serta tidak ada nilai null."
      ],
      "metadata": {
        "id": "u7JCtJ6O8Crp"
      }
    },
    {
      "cell_type": "code",
      "source": [
        "# Unique Value in rating df\n",
        "unique_users = rating_df['user_id'].nunique()\n",
        "print(f\"Number of unique users: {unique_users}\")"
      ],
      "metadata": {
        "id": "S6i6FoFWzGYK",
        "outputId": "a2164804-dc1f-4ebb-9cfa-cd3ec91f7e5f",
        "colab": {
          "base_uri": "https://localhost:8080/"
        }
      },
      "execution_count": null,
      "outputs": [
        {
          "output_type": "stream",
          "name": "stdout",
          "text": [
            "Number of unique users: 73515\n"
          ]
        }
      ]
    },
    {
      "cell_type": "markdown",
      "source": [
        "Unique value dari kolom user id ini berjumlah 73515, berarti sebanyak itu user yang telah memberikan rating pada data frame ini."
      ],
      "metadata": {
        "id": "pRwzVLNF8Tvq"
      }
    },
    {
      "cell_type": "code",
      "source": [
        "plt.figure(figsize=(10, 6))\n",
        "sns.histplot(rating_df[rating_df['rating'] != -1]['rating'], bins=10, kde=False, color='orchid')\n",
        "plt.title('Distribution of User Ratings (rating_df)', fontsize=14)\n",
        "plt.xlabel('User Rating')\n",
        "plt.ylabel('Frequency')\n",
        "plt.grid(True)\n",
        "plt.show()"
      ],
      "metadata": {
        "colab": {
          "base_uri": "https://localhost:8080/",
          "height": 536
        },
        "id": "EOtwUYRxy4zZ",
        "outputId": "b34a15a7-f1b2-4101-cac8-9e197136a56b"
      },
      "execution_count": null,
      "outputs": [
        {
          "output_type": "display_data",
          "data": {
            "text/plain": [
              "<Figure size 1000x600 with 1 Axes>"
            ],
            "image/png": "[encoded data removed]"
          },
          "metadata": {}
        }
      ]
    },
    {
      "cell_type": "markdown",
      "source": [
        "Kebanyakan rating yang diberikan oleh user ada di rentang 7-8"
      ],
      "metadata": {
        "id": "lNuCL6Nl80HA"
      }
    },
    {
      "cell_type": "markdown",
      "source": [
        "## Data Preparation"
      ],
      "metadata": {
        "id": "JDL25eO-IGgu"
      }
    },
    {
      "cell_type": "code",
      "source": [
        "# Handle Missing Value\n",
        "# Genre - fill unknown\n",
        "anime_df['genre'] = anime_df['genre'].fillna('Unknown')\n",
        "\n",
        "# Type - fill mode\n",
        "type_mode = anime_df['type'].mode()[0]\n",
        "anime_df['type'] = anime_df['type'].fillna(type_mode)\n",
        "\n",
        "# Episodes - type-based imputation\n",
        "episode_medians = anime_df.groupby('type')['episodes'].median()\n",
        "anime_df['episodes'] = anime_df.apply(\n",
        "    lambda row: episode_medians[row['type']] if pd.isna(row['episodes']) else row['episodes'],\n",
        "    axis=1\n",
        ")\n",
        "\n",
        "# Rating - weighted imputation\n",
        "avg_rating = np.average(\n",
        "    anime_df['rating'].dropna(),\n",
        "    weights=anime_df.loc[anime_df['rating'].notna(), 'members']\n",
        ")\n",
        "anime_df['rating'] = anime_df['rating'].fillna(avg_rating)"
      ],
      "metadata": {
        "id": "0R5Z6LqtHeeS"
      },
      "execution_count": 10,
      "outputs": []
    },
    {
      "cell_type": "markdown",
      "source": [
        "Pada tahap preprocessing ini kita mengatasi missing value terlebih dahulu. Pertama adalah mengisi null value pada kolom `genre` dengan 'Unknown', lalu mengisi kolom `type` dengan jumlah terbanyak, lalu mengisi null value dari `episode` dengan nilai median berdasarkan tipe anime tersebut."
      ],
      "metadata": {
        "id": "j6vL8tIz9yNW"
      }
    },
    {
      "cell_type": "code",
      "source": [
        "anime_df.head()"
      ],
      "metadata": {
        "colab": {
          "base_uri": "https://localhost:8080/",
          "height": 275
        },
        "id": "tzXrHU-L9QmE",
        "outputId": "093107bf-0d9f-482d-a416-8fd94dbf9ea2"
      },
      "execution_count": null,
      "outputs": [
        {
          "output_type": "execute_result",
          "data": {
            "text/plain": [
              "   anime_id                              name  \\\n",
              "0     32281                    Kimi no Na wa.   \n",
              "1      5114  Fullmetal Alchemist: Brotherhood   \n",
              "2     28977                          Gintama°   \n",
              "3      9253                       Steins;Gate   \n",
              "4      9969                     Gintama&#039;   \n",
              "\n",
              "                                               genre   type  episodes  rating  \\\n",
              "0               Drama, Romance, School, Supernatural  Movie       1.0    9.37   \n",
              "1  Action, Adventure, Drama, Fantasy, Magic, Mili...     TV      64.0    9.26   \n",
              "2  Action, Comedy, Historical, Parody, Samurai, S...     TV      51.0    9.25   \n",
              "3                                   Sci-Fi, Thriller     TV      24.0    9.17   \n",
              "4  Action, Comedy, Historical, Parody, Samurai, S...     TV      51.0    9.16   \n",
              "\n",
              "   members  \n",
              "0   200630  \n",
              "1   793665  \n",
              "2   114262  \n",
              "3   673572  \n",
              "4   151266  "
            ],
            "text/html": [
              "\n",
              "  <div id=\"df-2db20ad9-156b-4243-b194-37fa3b3ab286\" class=\"colab-df-container\">\n",
              "    <div>\n",
              "<style scoped>\n",
              "    .dataframe tbody tr th:only-of-type {\n",
              "        vertical-align: middle;\n",
              "    }\n",
              "\n",
              "    .dataframe tbody tr th {\n",
              "        vertical-align: top;\n",
              "    }\n",
              "\n",
              "    .dataframe thead th {\n",
              "        text-align: right;\n",
              "    }\n",
              "</style>\n",
              "<table border=\"1\" class=\"dataframe\">\n",
              "  <thead>\n",
              "    <tr style=\"text-align: right;\">\n",
              "      <th></th>\n",
              "      <th>anime_id</th>\n",
              "      <th>name</th>\n",
              "      <th>genre</th>\n",
              "      <th>type</th>\n",
              "      <th>episodes</th>\n",
              "      <th>rating</th>\n",
              "      <th>members</th>\n",
              "    </tr>\n",
              "  </thead>\n",
              "  <tbody>\n",
              "    <tr>\n",
              "      <th>0</th>\n",
              "      <td>32281</td>\n",
              "      <td>Kimi no Na wa.</td>\n",
              "      <td>Drama, Romance, School, Supernatural</td>\n",
              "      <td>Movie</td>\n",
              "      <td>1.0</td>\n",
              "      <td>9.37</td>\n",
              "      <td>200630</td>\n",
              "    </tr>\n",
              "    <tr>\n",
              "      <th>1</th>\n",
              "      <td>5114</td>\n",
              "      <td>Fullmetal Alchemist: Brotherhood</td>\n",
              "      <td>Action, Adventure, Drama, Fantasy, Magic, Mili...</td>\n",
              "      <td>TV</td>\n",
              "      <td>64.0</td>\n",
              "      <td>9.26</td>\n",
              "      <td>793665</td>\n",
              "    </tr>\n",
              "    <tr>\n",
              "      <th>2</th>\n",
              "      <td>28977</td>\n",
              "      <td>Gintama°</td>\n",
              "      <td>Action, Comedy, Historical, Parody, Samurai, S...</td>\n",
              "      <td>TV</td>\n",
              "      <td>51.0</td>\n",
              "      <td>9.25</td>\n",
              "      <td>114262</td>\n",
              "    </tr>\n",
              "    <tr>\n",
              "      <th>3</th>\n",
              "      <td>9253</td>\n",
              "      <td>Steins;Gate</td>\n",
              "      <td>Sci-Fi, Thriller</td>\n",
              "      <td>TV</td>\n",
              "      <td>24.0</td>\n",
              "      <td>9.17</td>\n",
              "      <td>673572</td>\n",
              "    </tr>\n",
              "    <tr>\n",
              "      <th>4</th>\n",
              "      <td>9969</td>\n",
              "      <td>Gintama&amp;#039;</td>\n",
              "      <td>Action, Comedy, Historical, Parody, Samurai, S...</td>\n",
              "      <td>TV</td>\n",
              "      <td>51.0</td>\n",
              "      <td>9.16</td>\n",
              "      <td>151266</td>\n",
              "    </tr>\n",
              "  </tbody>\n",
              "</table>\n",
              "</div>\n",
              "    <div class=\"colab-df-buttons\">\n",
              "\n",
              "  <div class=\"colab-df-container\">\n",
              "    <button class=\"colab-df-convert\" onclick=\"convertToInteractive('df-2db20ad9-156b-4243-b194-37fa3b3ab286')\"\n",
              "            title=\"Convert this dataframe to an interactive table.\"\n",
              "            style=\"display:none;\">\n",
              "\n",
              "  <svg xmlns=\"http://www.w3.org/2000/svg\" height=\"24px\" viewBox=\"0 -960 960 960\">\n",
              "    <path d=\"M120-120v-720h720v720H120Zm60-500h600v-160H180v160Zm220 220h160v-160H400v160Zm0 220h160v-160H400v160ZM180-400h160v-160H180v160Zm440 0h160v-160H620v160ZM180-180h160v-160H180v160Zm440 0h160v-160H620v160Z\"/>\n",
              "  </svg>\n",
              "    </button>\n",
              "\n",
              "  <style>\n",
              "    .colab-df-container {\n",
              "      display:flex;\n",
              "      gap: 12px;\n",
              "    }\n",
              "\n",
              "    .colab-df-convert {\n",
              "      background-color: #E8F0FE;\n",
              "      border: none;\n",
              "      border-radius: 50%;\n",
              "      cursor: pointer;\n",
              "      display: none;\n",
              "      fill: #1967D2;\n",
              "      height: 32px;\n",
              "      padding: 0 0 0 0;\n",
              "      width: 32px;\n",
              "    }\n",
              "\n",
              "    .colab-df-convert:hover {\n",
              "      background-color: #E2EBFA;\n",
              "      box-shadow: 0px 1px 2px rgba(60, 64, 67, 0.3), 0px 1px 3px 1px rgba(60, 64, 67, 0.15);\n",
              "      fill: #174EA6;\n",
              "    }\n",
              "\n",
              "    .colab-df-buttons div {\n",
              "      margin-bottom: 4px;\n",
              "    }\n",
              "\n",
              "    [theme=dark] .colab-df-convert {\n",
              "      background-color: #3B4455;\n",
              "      fill: #D2E3FC;\n",
              "    }\n",
              "\n",
              "    [theme=dark] .colab-df-convert:hover {\n",
              "      background-color: #434B5C;\n",
              "      box-shadow: 0px 1px 3px 1px rgba(0, 0, 0, 0.15);\n",
              "      filter: drop-shadow(0px 1px 2px rgba(0, 0, 0, 0.3));\n",
              "      fill: #FFFFFF;\n",
              "    }\n",
              "  </style>\n",
              "\n",
              "    <script>\n",
              "      const buttonEl =\n",
              "        document.querySelector('#df-2db20ad9-156b-4243-b194-37fa3b3ab286 button.colab-df-convert');\n",
              "      buttonEl.style.display =\n",
              "        google.colab.kernel.accessAllowed ? 'block' : 'none';\n",
              "\n",
              "      async function convertToInteractive(key) {\n",
              "        const element = document.querySelector('#df-2db20ad9-156b-4243-b194-37fa3b3ab286');\n",
              "        const dataTable =\n",
              "          await google.colab.kernel.invokeFunction('convertToInteractive',\n",
              "                                                    [key], {});\n",
              "        if (!dataTable) return;\n",
              "\n",
              "        const docLinkHtml = 'Like what you see? Visit the ' +\n",
              "          '<a target=\"_blank\" href=https://colab.research.google.com/notebooks/data_table.ipynb>data table notebook</a>'\n",
              "          + ' to learn more about interactive tables.';\n",
              "        element.innerHTML = '';\n",
              "        dataTable['output_type'] = 'display_data';\n",
              "        await google.colab.output.renderOutput(dataTable, element);\n",
              "        const docLink = document.createElement('div');\n",
              "        docLink.innerHTML = docLinkHtml;\n",
              "        element.appendChild(docLink);\n",
              "      }\n",
              "    </script>\n",
              "  </div>\n",
              "\n",
              "\n",
              "    <div id=\"df-b8786b83-2aa2-4ae8-8d7e-c41fff6ed84e\">\n",
              "      <button class=\"colab-df-quickchart\" onclick=\"quickchart('df-b8786b83-2aa2-4ae8-8d7e-c41fff6ed84e')\"\n",
              "                title=\"Suggest charts\"\n",
              "                style=\"display:none;\">\n",
              "\n",
              "<svg xmlns=\"http://www.w3.org/2000/svg\" height=\"24px\"viewBox=\"0 0 24 24\"\n",
              "     width=\"24px\">\n",
              "    <g>\n",
              "        <path d=\"M19 3H5c-1.1 0-2 .9-2 2v14c0 1.1.9 2 2 2h14c1.1 0 2-.9 2-2V5c0-1.1-.9-2-2-2zM9 17H7v-7h2v7zm4 0h-2V7h2v10zm4 0h-2v-4h2v4z\"/>\n",
              "    </g>\n",
              "</svg>\n",
              "      </button>\n",
              "\n",
              "<style>\n",
              "  .colab-df-quickchart {\n",
              "      --bg-color: #E8F0FE;\n",
              "      --fill-color: #1967D2;\n",
              "      --hover-bg-color: #E2EBFA;\n",
              "      --hover-fill-color: #174EA6;\n",
              "      --disabled-fill-color: #AAA;\n",
              "      --disabled-bg-color: #DDD;\n",
              "  }\n",
              "\n",
              "  [theme=dark] .colab-df-quickchart {\n",
              "      --bg-color: #3B4455;\n",
              "      --fill-color: #D2E3FC;\n",
              "      --hover-bg-color: #434B5C;\n",
              "      --hover-fill-color: #FFFFFF;\n",
              "      --disabled-bg-color: #3B4455;\n",
              "      --disabled-fill-color: #666;\n",
              "  }\n",
              "\n",
              "  .colab-df-quickchart {\n",
              "    background-color: var(--bg-color);\n",
              "    border: none;\n",
              "    border-radius: 50%;\n",
              "    cursor: pointer;\n",
              "    display: none;\n",
              "    fill: var(--fill-color);\n",
              "    height: 32px;\n",
              "    padding: 0;\n",
              "    width: 32px;\n",
              "  }\n",
              "\n",
              "  .colab-df-quickchart:hover {\n",
              "    background-color: var(--hover-bg-color);\n",
              "    box-shadow: 0 1px 2px rgba(60, 64, 67, 0.3), 0 1px 3px 1px rgba(60, 64, 67, 0.15);\n",
              "    fill: var(--button-hover-fill-color);\n",
              "  }\n",
              "\n",
              "  .colab-df-quickchart-complete:disabled,\n",
              "  .colab-df-quickchart-complete:disabled:hover {\n",
              "    background-color: var(--disabled-bg-color);\n",
              "    fill: var(--disabled-fill-color);\n",
              "    box-shadow: none;\n",
              "  }\n",
              "\n",
              "  .colab-df-spinner {\n",
              "    border: 2px solid var(--fill-color);\n",
              "    border-color: transparent;\n",
              "    border-bottom-color: var(--fill-color);\n",
              "    animation:\n",
              "      spin 1s steps(1) infinite;\n",
              "  }\n",
              "\n",
              "  @keyframes spin {\n",
              "    0% {\n",
              "      border-color: transparent;\n",
              "      border-bottom-color: var(--fill-color);\n",
              "      border-left-color: var(--fill-color);\n",
              "    }\n",
              "    20% {\n",
              "      border-color: transparent;\n",
              "      border-left-color: var(--fill-color);\n",
              "      border-top-color: var(--fill-color);\n",
              "    }\n",
              "    30% {\n",
              "      border-color: transparent;\n",
              "      border-left-color: var(--fill-color);\n",
              "      border-top-color: var(--fill-color);\n",
              "      border-right-color: var(--fill-color);\n",
              "    }\n",
              "    40% {\n",
              "      border-color: transparent;\n",
              "      border-right-color: var(--fill-color);\n",
              "      border-top-color: var(--fill-color);\n",
              "    }\n",
              "    60% {\n",
              "      border-color: transparent;\n",
              "      border-right-color: var(--fill-color);\n",
              "    }\n",
              "    80% {\n",
              "      border-color: transparent;\n",
              "      border-right-color: var(--fill-color);\n",
              "      border-bottom-color: var(--fill-color);\n",
              "    }\n",
              "    90% {\n",
              "      border-color: transparent;\n",
              "      border-bottom-color: var(--fill-color);\n",
              "    }\n",
              "  }\n",
              "</style>\n",
              "\n",
              "      <script>\n",
              "        async function quickchart(key) {\n",
              "          const quickchartButtonEl =\n",
              "            document.querySelector('#' + key + ' button');\n",
              "          quickchartButtonEl.disabled = true;  // To prevent multiple clicks.\n",
              "          quickchartButtonEl.classList.add('colab-df-spinner');\n",
              "          try {\n",
              "            const charts = await google.colab.kernel.invokeFunction(\n",
              "                'suggestCharts', [key], {});\n",
              "          } catch (error) {\n",
              "            console.error('Error during call to suggestCharts:', error);\n",
              "          }\n",
              "          quickchartButtonEl.classList.remove('colab-df-spinner');\n",
              "          quickchartButtonEl.classList.add('colab-df-quickchart-complete');\n",
              "        }\n",
              "        (() => {\n",
              "          let quickchartButtonEl =\n",
              "            document.querySelector('#df-b8786b83-2aa2-4ae8-8d7e-c41fff6ed84e button');\n",
              "          quickchartButtonEl.style.display =\n",
              "            google.colab.kernel.accessAllowed ? 'block' : 'none';\n",
              "        })();\n",
              "      </script>\n",
              "    </div>\n",
              "\n",
              "    </div>\n",
              "  </div>\n"
            ],
            "application/vnd.google.colaboratory.intrinsic+json": {
              "type": "dataframe",
              "variable_name": "anime_df",
              "summary": "{\n  \"name\": \"anime_df\",\n  \"rows\": 12294,\n  \"fields\": [\n    {\n      \"column\": \"anime_id\",\n      \"properties\": {\n        \"dtype\": \"number\",\n        \"std\": 11455,\n        \"min\": 1,\n        \"max\": 34527,\n        \"num_unique_values\": 12294,\n        \"samples\": [\n          17209,\n          173,\n          3616\n        ],\n        \"semantic_type\": \"\",\n        \"description\": \"\"\n      }\n    },\n    {\n      \"column\": \"name\",\n      \"properties\": {\n        \"dtype\": \"string\",\n        \"num_unique_values\": 12292,\n        \"samples\": [\n          \"Nils no Fushigi na Tabi (Movie)\",\n          \"Tactics\",\n          \"Kamen no Maid Guy\"\n        ],\n        \"semantic_type\": \"\",\n        \"description\": \"\"\n      }\n    },\n    {\n      \"column\": \"genre\",\n      \"properties\": {\n        \"dtype\": \"category\",\n        \"num_unique_values\": 3265,\n        \"samples\": [\n          \"Drama, Sci-Fi, Space\",\n          \"Action, Adventure, Comedy, Demons, Fantasy, Magic, Romance, Shounen, Supernatural\",\n          \"Action, Comedy, Harem, Parody, Romance\"\n        ],\n        \"semantic_type\": \"\",\n        \"description\": \"\"\n      }\n    },\n    {\n      \"column\": \"type\",\n      \"properties\": {\n        \"dtype\": \"category\",\n        \"num_unique_values\": 6,\n        \"samples\": [\n          \"Movie\",\n          \"TV\",\n          \"ONA\"\n        ],\n        \"semantic_type\": \"\",\n        \"description\": \"\"\n      }\n    },\n    {\n      \"column\": \"episodes\",\n      \"properties\": {\n        \"dtype\": \"number\",\n        \"std\": 46.25055051857118,\n        \"min\": 1.0,\n        \"max\": 1818.0,\n        \"num_unique_values\": 186,\n        \"samples\": [\n          72.0,\n          283.0,\n          312.0\n        ],\n        \"semantic_type\": \"\",\n        \"description\": \"\"\n      }\n    },\n    {\n      \"column\": \"rating\",\n      \"properties\": {\n        \"dtype\": \"number\",\n        \"std\": 1.030107076671051,\n        \"min\": 1.67,\n        \"max\": 10.0,\n        \"num_unique_values\": 599,\n        \"samples\": [\n          7.87,\n          4.78,\n          4.1\n        ],\n        \"semantic_type\": \"\",\n        \"description\": \"\"\n      }\n    },\n    {\n      \"column\": \"members\",\n      \"properties\": {\n        \"dtype\": \"number\",\n        \"std\": 54820,\n        \"min\": 5,\n        \"max\": 1013917,\n        \"num_unique_values\": 6706,\n        \"samples\": [\n          170754,\n          1515,\n          66376\n        ],\n        \"semantic_type\": \"\",\n        \"description\": \"\"\n      }\n    }\n  ]\n}"
            }
          },
          "metadata": {},
          "execution_count": 14
        }
      ]
    },
    {
      "cell_type": "code",
      "source": [
        "print(\"\\nAfter imputation:\")\n",
        "print(anime_df.isna().sum())\n",
        "\n",
        "# Check distributions remain realistic\n",
        "print(\"\\nEpisode stats by type:\")\n",
        "print(anime_df.groupby('type')['episodes'].describe())\n",
        "\n",
        "print(\"\\nRating distribution:\")\n",
        "print(anime_df['rating'].describe())"
      ],
      "metadata": {
        "colab": {
          "base_uri": "https://localhost:8080/"
        },
        "id": "TS7AKruJIqxS",
        "outputId": "08561b6f-6759-432a-c1ef-c54617d87e04"
      },
      "execution_count": null,
      "outputs": [
        {
          "output_type": "stream",
          "name": "stdout",
          "text": [
            "\n",
            "After imputation:\n",
            "anime_id    0\n",
            "name        0\n",
            "genre       0\n",
            "type        0\n",
            "episodes    0\n",
            "rating      0\n",
            "members     0\n",
            "dtype: int64\n",
            "\n",
            "Episode stats by type:\n",
            "          count       mean        std  min   25%   50%   75%     max\n",
            "type                                                                \n",
            "Movie    2348.0   1.102215   2.147468  1.0   1.0   1.0   1.0   100.0\n",
            "Music     488.0   1.131148   1.292536  1.0   1.0   1.0   1.0    24.0\n",
            "ONA       659.0   6.537178  11.048101  1.0   1.0   2.0   8.0    84.0\n",
            "OVA      3311.0   2.411356   3.185017  1.0   1.0   2.0   3.0   110.0\n",
            "Special  1676.0   2.556683   3.695549  1.0   1.0   1.0   2.0    51.0\n",
            "TV       3812.0  35.184155  78.177782  2.0  13.0  24.0  39.0  1818.0\n",
            "\n",
            "Rating distribution:\n",
            "count    12294.000000\n",
            "mean         6.496436\n",
            "std          1.030107\n",
            "min          1.670000\n",
            "25%          5.900000\n",
            "50%          6.590000\n",
            "75%          7.220000\n",
            "max         10.000000\n",
            "Name: rating, dtype: float64\n"
          ]
        }
      ]
    },
    {
      "cell_type": "markdown",
      "source": [
        "Setelah dilakukan preprocessing, tidak ada lagi missing value. Lalu terdapat outlier dengan jumlah episode sebanyak 1818 episode, kemungkinan anime dengan jangka waktu lama seperti Naruto atau Detective Conan, lalu rating rata-rata adlaah 6.5 dengan rating tertinggi adalah 10."
      ],
      "metadata": {
        "id": "tBVh4zkD-zwC"
      }
    },
    {
      "cell_type": "code",
      "source": [
        "# Convert genres to list format for content-based filtering\n",
        "anime_df['genre_list'] = anime_df['genre'].str.split(', ')\n",
        "\n",
        "# Create genre indicators (for TF-IDF later)\n",
        "anime_df['genre_features'] = anime_df['genre'].str.replace(', ', ' ')\n",
        "\n",
        "# Normalize ratings\n",
        "rating_df_clean = rating_df[rating_df['rating'] > 0].dropna()"
      ],
      "metadata": {
        "id": "CTN_XoMqJFC_"
      },
      "execution_count": 11,
      "outputs": []
    },
    {
      "cell_type": "markdown",
      "source": [
        "Disini kita mempersiapkan data agar bisa digunakan dalam Content Based Filterring dengan TF-IDF. <br>Pertama, kolom genre diubah dari format string yang dipisah koma menjadi daftar genre agar setiap genre bisa diproses secara individual. <br>Kemudian, genre juga diubah menjadi string dengan spasi sebagai pemisah untuk memudahkan pembuatan fitur menggunakan teknik TF-IDF. <br>Terakhir, data rating dibersihkan dengan menghapus nilai rating yang nol atau kosong agar model rekomendasi hanya belajar dari data rating yang valid dan penting."
      ],
      "metadata": {
        "id": "yQCF9vve3CFk"
      }
    },
    {
      "cell_type": "code",
      "source": [
        "# Content-based features\n",
        "tfidf = TfidfVectorizer(tokenizer=lambda x: x, preprocessor=lambda x: x)\n",
        "genre_matrix = tfidf.fit_transform(anime_df['genre_list'])\n",
        "\n",
        "# Popularity score (weighted by members and rating)\n",
        "anime_df['popularity_score'] = (\n",
        "    anime_df['rating'] * np.log1p(anime_df['members'])\n",
        ")"
      ],
      "metadata": {
        "id": "8xtqTd6iJHBm"
      },
      "execution_count": 12,
      "outputs": []
    },
    {
      "cell_type": "markdown",
      "source": [
        "Kode tersebut membuat fitur content-based dan menghitung skor popularitas anime. <br>Pertama, `TfidfVectorizer` dengan tokenizer khusus untuk mengubah daftar genre menjadi matriks fitur numerik yang merepresentasikan seberapa penting setiap genre untuk tiap anime. <br>Kedua, menghitung skor popularitas dengan mengalikan rating anime dan logaritma jumlah anggota (members), sehingga anime yang memiliki rating tinggi dan banyak anggota akan mendapatkan skor popularitas yang lebih besar. <br>Skor ini bisa digunakan untuk menentukan anime yang populer dalam rekomendasi."
      ],
      "metadata": {
        "id": "g_1k4Q0a4L1c"
      }
    },
    {
      "cell_type": "markdown",
      "source": [
        "## Modelling"
      ],
      "metadata": {
        "id": "AGYMfMVpJVRF"
      }
    },
    {
      "cell_type": "code",
      "source": [
        "# Content Based using TF-IDF + Cosine\n",
        "cosine_sim = cosine_similarity(genre_matrix, genre_matrix)\n",
        "\n",
        "def content_recommend(title, n=5):\n",
        "    idx = anime_df[anime_df['name']==title].index[0]\n",
        "    sim_scores = list(enumerate(cosine_sim[idx]))\n",
        "    sim_scores = sorted(sim_scores, key=lambda x: x[1], reverse=True)\n",
        "    return anime_df.iloc[[i[0] for i in sim_scores[1:n+1]]]"
      ],
      "metadata": {
        "id": "4f1trYSkJXU9"
      },
      "execution_count": 13,
      "outputs": []
    },
    {
      "cell_type": "markdown",
      "source": [
        "Kode di atas menggunakan algoritma TF-IDF untuk Content Based Filterring dimana kita menggunakan input judul dan menggunakan cosine similarity untuk menentukan top 5"
      ],
      "metadata": {
        "id": "8l9BBqlS5zJt"
      }
    },
    {
      "cell_type": "code",
      "source": [
        "reader = Reader(rating_scale=(1, 10))\n",
        "data = Dataset.load_from_df(rating_df_clean[['user_id', 'anime_id', 'rating']], reader)\n",
        "\n",
        "# Train SVD model\n",
        "svd = SVD()\n",
        "cross_val_results = cross_validate(svd, data, measures=['RMSE'], cv=3)\n",
        "svd.fit(data.build_full_trainset())"
      ],
      "metadata": {
        "id": "S3sZTGC7JfEm",
        "colab": {
          "base_uri": "https://localhost:8080/"
        },
        "outputId": "371666d0-f555-4121-beb3-19e35b8321de"
      },
      "execution_count": 14,
      "outputs": [
        {
          "output_type": "execute_result",
          "data": {
            "text/plain": [
              "<surprise.prediction_algorithms.matrix_factorization.SVD at 0x7d981b9d8890>"
            ]
          },
          "metadata": {},
          "execution_count": 14
        }
      ]
    },
    {
      "cell_type": "markdown",
      "source": [
        "Kode di atas membuat Collaborative Filterring menggunakan library `surprise` dan `svd`. `Reader` mengatur rentang nilai rating dari 1 sampai 10. Kemudian, data rating yang sudah dibersihkan (rating_df_clean) diload dengan `Dataset.load_from_df`. Model SVD dilatih dan dievaluasi menggunakan cross-validation sebanyak 3 kali dengan metrik RMSE untuk mengukur akurasi prediksi rating. Setelah evaluasi, model dilatih penuh dengan seluruh data yang tersedia untuk digunakan dalam inferensi atau rekomendasi."
      ],
      "metadata": {
        "id": "gcZe0L4n-FHT"
      }
    },
    {
      "cell_type": "markdown",
      "source": [
        "## Evaluation"
      ],
      "metadata": {
        "id": "ooT4OQ0bpHQq"
      }
    },
    {
      "cell_type": "code",
      "source": [
        "# Assuming anime_df and rating_df are already loaded\n",
        "# genre_matrix is the matrix of anime genre features (shape: n_animes x n_genres)\n",
        "\n",
        "# 1. Create anime_id to DataFrame index mapping\n",
        "anime_id_to_idx = pd.Series(anime_df.index, index=anime_df['anime_id']).to_dict()\n",
        "\n",
        "# 2. Filter for valid anime IDs\n",
        "valid_anime_ids = anime_df['anime_id'].unique()\n",
        "rating_df = rating_df[rating_df['anime_id'].isin(valid_anime_ids)]\n",
        "\n",
        "# 3. Filter for users with sufficient positive ratings (>=5 ratings of >=4)\n",
        "MIN_POSITIVE_RATINGS = 5\n",
        "POSITIVE_THRESHOLD = 4\n",
        "\n",
        "user_stats = rating_df[rating_df['rating'] >= POSITIVE_THRESHOLD].groupby('user_id').size()\n",
        "valid_users = user_stats[user_stats >= MIN_POSITIVE_RATINGS].index\n",
        "rating_df = rating_df[rating_df['user_id'].isin(valid_users)]\n",
        "\n",
        "# 4. Stratified train-test split (ensure test users have positives)\n",
        "user_stats = rating_df[rating_df['rating'] >= POSITIVE_THRESHOLD].groupby('user_id').size()\n",
        "train_users, test_users = train_test_split(\n",
        "    user_stats.index,\n",
        "    test_size=0.2,\n",
        "    random_state=42,\n",
        "    stratify=pd.cut(user_stats, bins=[0, 5, 10, 20, np.inf])  # Stratify by activity level\n",
        ")\n",
        "\n",
        "# 5. Build user profiles using training data\n",
        "user_profiles = {}\n",
        "for user_id in train_users:\n",
        "    user_ratings = rating_df[(rating_df['user_id'] == user_id) &\n",
        "                           (rating_df['rating'] >= POSITIVE_THRESHOLD)]\n",
        "    anime_indices = user_ratings['anime_id'].map(anime_id_to_idx).dropna().astype(int)\n",
        "\n",
        "    if len(anime_indices) > 0:\n",
        "        try:\n",
        "            user_profiles[user_id] = genre_matrix[anime_indices].mean(axis=0)\n",
        "        except Exception as e:\n",
        "            print(f\"Error creating profile for user {user_id}: {str(e)}\")\n",
        "            continue\n",
        "\n",
        "# 6. Enhanced evaluation function with diagnostics\n",
        "def evaluate_model(test_users, n_recommendations=20, min_test_positives=1):\n",
        "    precisions = []\n",
        "    recalls = []\n",
        "    evaluated_users = 0\n",
        "    skipped_no_profile = 0\n",
        "    skipped_no_positives = 0\n",
        "\n",
        "    for user_id in test_users:\n",
        "        # Skip if no user profile\n",
        "        if user_id not in user_profiles:\n",
        "            skipped_no_profile += 1\n",
        "            continue\n",
        "\n",
        "        # Get test positives (held-out items with rating >= threshold)\n",
        "        test_positives = rating_df[\n",
        "            (rating_df['user_id'] == user_id) &\n",
        "            (rating_df['rating'] >= POSITIVE_THRESHOLD)\n",
        "        ]\n",
        "\n",
        "        # Skip if not enough test positives\n",
        "        if len(test_positives) < min_test_positives:\n",
        "            skipped_no_positives += 1\n",
        "            continue\n",
        "\n",
        "        # Get true indices of positive items\n",
        "        true_indices = test_positives['anime_id'].map(anime_id_to_idx).dropna().astype(int)\n",
        "\n",
        "        # Generate recommendations\n",
        "        user_vector = user_profiles[user_id]\n",
        "        sim_scores = cosine_similarity(user_vector.reshape(1, -1), genre_matrix).flatten()\n",
        "\n",
        "        # Exclude already rated items\n",
        "        rated_indices = rating_df[rating_df['user_id'] == user_id]['anime_id'] \\\n",
        "                          .map(anime_id_to_idx).dropna().astype(int)\n",
        "        sim_scores[rated_indices] = -np.inf\n",
        "\n",
        "        # Get top-N recommendations\n",
        "        recommended_indices = np.argsort(sim_scores)[::-1][:n_recommendations]\n",
        "\n",
        "        # Calculate metrics\n",
        "        hits = np.intersect1d(recommended_indices, true_indices)\n",
        "        precision = len(hits) / n_recommendations\n",
        "        recall = len(hits) / len(true_indices)\n",
        "\n",
        "        precisions.append(precision)\n",
        "        recalls.append(recall)\n",
        "        evaluated_users += 1\n",
        "\n",
        "    # Diagnostic output\n",
        "    print(f\"\\nEvaluation Diagnostics:\")\n",
        "    print(f\"Total test users: {len(test_users)}\")\n",
        "    print(f\"Users with profiles: {len(test_users) - skipped_no_profile}\")\n",
        "    print(f\"Users with sufficient test positives: {evaluated_users}\")\n",
        "    print(f\"Skipped - no profile: {skipped_no_profile}\")\n",
        "    print(f\"Skipped - insufficient positives: {skipped_no_positives}\")\n",
        "\n",
        "    if not precisions:\n",
        "        print(\"\\nWarning: No valid evaluations performed. Possible causes:\")\n",
        "        print(\"- Not enough users with both training and test ratings\")\n",
        "        print(\"- Rating threshold (>=4) too strict\")\n",
        "        print(\"- Train/test split left some users without test data\")\n",
        "        return None, None\n",
        "\n",
        "    return np.mean(precisions), np.mean(recalls)\n",
        "\n",
        "# 7. Run evaluation with diagnostics\n",
        "precision, recall = evaluate_model(test_users, n_recommendations=20)\n",
        "if precision is not None:\n",
        "    print(f\"\\nPrecision@20: {precision:.4f}\")\n",
        "    print(f\"Recall@20: {recall:.4f}\")\n",
        "    print(f\"F1-Score: {2*(precision*recall)/(precision+recall+1e-9):.4f}\")\n",
        "else:\n",
        "    print(\"\\nEvaluation failed - check data preparation steps\")"
      ],
      "metadata": {
        "colab": {
          "base_uri": "https://localhost:8080/"
        },
        "id": "KWPBK5uitQM9",
        "outputId": "d0018f67-3787-406f-e616-7c3cafa470bb"
      },
      "execution_count": 16,
      "outputs": [
        {
          "output_type": "stream",
          "name": "stdout",
          "text": [
            "\n",
            "Evaluation Diagnostics:\n",
            "Total test users: 12185\n",
            "Users with profiles: 0\n",
            "Users with sufficient test positives: 0\n",
            "Skipped - no profile: 12185\n",
            "Skipped - insufficient positives: 0\n",
            "\n",
            "Warning: No valid evaluations performed. Possible causes:\n",
            "- Not enough users with both training and test ratings\n",
            "- Rating threshold (>=4) too strict\n",
            "- Train/test split left some users without test data\n",
            "\n",
            "Evaluation failed - check data preparation steps\n"
          ]
        }
      ]
    },
    {
      "cell_type": "markdown",
      "source": [
        "Hasil evaluasi gagal karena tidak ada satu pun dari 12.185 pengguna testing yang memiliki profil rekomendasi yang valid. Diagnostik menunjukkan seluruh pengguna terlewat karena tidak memiliki profil, bukan karena kurangnya data positif. Kegagalan ini kemungkinan disebabkan oleh:\n",
        "\n",
        "1. Pembagian data training dan testing yang tidak tepat.\n",
        "\n",
        "2. Threshold rating (≥4) terlalu tinggi.\n",
        "\n",
        "3. Data training tidak cukup membentuk profil pengguna yang memadai."
      ],
      "metadata": {
        "id": "g382kRgD6haQ"
      }
    },
    {
      "cell_type": "code",
      "source": [
        "# SVD evaluation\n",
        "print(f\"SVD RMSE: {cross_val_results['test_rmse'].mean():.4f}\")"
      ],
      "metadata": {
        "colab": {
          "base_uri": "https://localhost:8080/"
        },
        "id": "oL96zAKnvIlS",
        "outputId": "b3ce1eb2-92ba-47d6-dc6a-8f56d46946a5"
      },
      "execution_count": null,
      "outputs": [
        {
          "output_type": "stream",
          "name": "stdout",
          "text": [
            "SVD RMSE: 1.1528\n"
          ]
        }
      ]
    },
    {
      "cell_type": "markdown",
      "source": [
        "Akurasi dari model SVD tersebut dapat dikatakan bagus, akan tetapi masih dapat ditingkatkan dengan beberapa cara. Sementara untuk evaluasi metode TF-IDF + Cosine dilakukan secara manual. Apakah konten yang direkomendasikan termasuk bagus atau tidak oleh user."
      ],
      "metadata": {
        "id": "LgE1yTEQGNrq"
      }
    },
    {
      "cell_type": "markdown",
      "source": [
        "## Inference"
      ],
      "metadata": {
        "id": "5fkbX55spKiu"
      }
    },
    {
      "cell_type": "code",
      "source": [
        "# Inference using TF-IDF and Cosine\n",
        "print(\"Content recommendations for 'Naruto':\")\n",
        "display(content_recommend(\"Naruto\"))"
      ],
      "metadata": {
        "id": "paYlDNOnJ_6a",
        "colab": {
          "base_uri": "https://localhost:8080/",
          "height": 677
        },
        "outputId": "cf24f5c9-c6fe-41c8-d4ca-0fc869a8c8c9"
      },
      "execution_count": null,
      "outputs": [
        {
          "output_type": "stream",
          "name": "stdout",
          "text": [
            "Content recommendations for 'Naruto':\n"
          ]
        },
        {
          "output_type": "display_data",
          "data": {
            "text/plain": [
              "      anime_id                                               name  \\\n",
              "615       1735                                 Naruto: Shippuuden   \n",
              "841         20                                             Naruto   \n",
              "1103     32365  Boruto: Naruto the Movie - Naruto ga Hokage ni...   \n",
              "1343     10075                                        Naruto x UT   \n",
              "1472      8246        Naruto: Shippuuden Movie 4 - The Lost Tower   \n",
              "\n",
              "                                                  genre     type  episodes  \\\n",
              "615   Action, Comedy, Martial Arts, Shounen, Super P...       TV      24.0   \n",
              "841   Action, Comedy, Martial Arts, Shounen, Super P...       TV     220.0   \n",
              "1103  Action, Comedy, Martial Arts, Shounen, Super P...  Special       1.0   \n",
              "1343  Action, Comedy, Martial Arts, Shounen, Super P...      OVA       1.0   \n",
              "1472  Action, Comedy, Martial Arts, Shounen, Super P...    Movie       1.0   \n",
              "\n",
              "      rating  members                                         genre_list  \\\n",
              "615     7.94   533578  [Action, Comedy, Martial Arts, Shounen, Super ...   \n",
              "841     7.81   683297  [Action, Comedy, Martial Arts, Shounen, Super ...   \n",
              "1103    7.68    16868  [Action, Comedy, Martial Arts, Shounen, Super ...   \n",
              "1343    7.58    23465  [Action, Comedy, Martial Arts, Shounen, Super ...   \n",
              "1472    7.53    84527  [Action, Comedy, Martial Arts, Shounen, Super ...   \n",
              "\n",
              "                                      genre_features  popularity_score  \n",
              "615   Action Comedy Martial Arts Shounen Super Power        104.707658  \n",
              "841   Action Comedy Martial Arts Shounen Super Power        104.924900  \n",
              "1103  Action Comedy Martial Arts Shounen Super Power         74.751229  \n",
              "1343  Action Comedy Martial Arts Shounen Super Power         76.279873  \n",
              "1472  Action Comedy Martial Arts Shounen Super Power         85.426631  "
            ],
            "text/html": [
              "\n",
              "  <div id=\"df-bf5d541c-cebf-446d-a23f-f130c8ab16b0\" class=\"colab-df-container\">\n",
              "    <div>\n",
              "<style scoped>\n",
              "    .dataframe tbody tr th:only-of-type {\n",
              "        vertical-align: middle;\n",
              "    }\n",
              "\n",
              "    .dataframe tbody tr th {\n",
              "        vertical-align: top;\n",
              "    }\n",
              "\n",
              "    .dataframe thead th {\n",
              "        text-align: right;\n",
              "    }\n",
              "</style>\n",
              "<table border=\"1\" class=\"dataframe\">\n",
              "  <thead>\n",
              "    <tr style=\"text-align: right;\">\n",
              "      <th></th>\n",
              "      <th>anime_id</th>\n",
              "      <th>name</th>\n",
              "      <th>genre</th>\n",
              "      <th>type</th>\n",
              "      <th>episodes</th>\n",
              "      <th>rating</th>\n",
              "      <th>members</th>\n",
              "      <th>genre_list</th>\n",
              "      <th>genre_features</th>\n",
              "      <th>popularity_score</th>\n",
              "    </tr>\n",
              "  </thead>\n",
              "  <tbody>\n",
              "    <tr>\n",
              "      <th>615</th>\n",
              "      <td>1735</td>\n",
              "      <td>Naruto: Shippuuden</td>\n",
              "      <td>Action, Comedy, Martial Arts, Shounen, Super P...</td>\n",
              "      <td>TV</td>\n",
              "      <td>24.0</td>\n",
              "      <td>7.94</td>\n",
              "      <td>533578</td>\n",
              "      <td>[Action, Comedy, Martial Arts, Shounen, Super ...</td>\n",
              "      <td>Action Comedy Martial Arts Shounen Super Power</td>\n",
              "      <td>104.707658</td>\n",
              "    </tr>\n",
              "    <tr>\n",
              "      <th>841</th>\n",
              "      <td>20</td>\n",
              "      <td>Naruto</td>\n",
              "      <td>Action, Comedy, Martial Arts, Shounen, Super P...</td>\n",
              "      <td>TV</td>\n",
              "      <td>220.0</td>\n",
              "      <td>7.81</td>\n",
              "      <td>683297</td>\n",
              "      <td>[Action, Comedy, Martial Arts, Shounen, Super ...</td>\n",
              "      <td>Action Comedy Martial Arts Shounen Super Power</td>\n",
              "      <td>104.924900</td>\n",
              "    </tr>\n",
              "    <tr>\n",
              "      <th>1103</th>\n",
              "      <td>32365</td>\n",
              "      <td>Boruto: Naruto the Movie - Naruto ga Hokage ni...</td>\n",
              "      <td>Action, Comedy, Martial Arts, Shounen, Super P...</td>\n",
              "      <td>Special</td>\n",
              "      <td>1.0</td>\n",
              "      <td>7.68</td>\n",
              "      <td>16868</td>\n",
              "      <td>[Action, Comedy, Martial Arts, Shounen, Super ...</td>\n",
              "      <td>Action Comedy Martial Arts Shounen Super Power</td>\n",
              "      <td>74.751229</td>\n",
              "    </tr>\n",
              "    <tr>\n",
              "      <th>1343</th>\n",
              "      <td>10075</td>\n",
              "      <td>Naruto x UT</td>\n",
              "      <td>Action, Comedy, Martial Arts, Shounen, Super P...</td>\n",
              "      <td>OVA</td>\n",
              "      <td>1.0</td>\n",
              "      <td>7.58</td>\n",
              "      <td>23465</td>\n",
              "      <td>[Action, Comedy, Martial Arts, Shounen, Super ...</td>\n",
              "      <td>Action Comedy Martial Arts Shounen Super Power</td>\n",
              "      <td>76.279873</td>\n",
              "    </tr>\n",
              "    <tr>\n",
              "      <th>1472</th>\n",
              "      <td>8246</td>\n",
              "      <td>Naruto: Shippuuden Movie 4 - The Lost Tower</td>\n",
              "      <td>Action, Comedy, Martial Arts, Shounen, Super P...</td>\n",
              "      <td>Movie</td>\n",
              "      <td>1.0</td>\n",
              "      <td>7.53</td>\n",
              "      <td>84527</td>\n",
              "      <td>[Action, Comedy, Martial Arts, Shounen, Super ...</td>\n",
              "      <td>Action Comedy Martial Arts Shounen Super Power</td>\n",
              "      <td>85.426631</td>\n",
              "    </tr>\n",
              "  </tbody>\n",
              "</table>\n",
              "</div>\n",
              "    <div class=\"colab-df-buttons\">\n",
              "\n",
              "  <div class=\"colab-df-container\">\n",
              "    <button class=\"colab-df-convert\" onclick=\"convertToInteractive('df-bf5d541c-cebf-446d-a23f-f130c8ab16b0')\"\n",
              "            title=\"Convert this dataframe to an interactive table.\"\n",
              "            style=\"display:none;\">\n",
              "\n",
              "  <svg xmlns=\"http://www.w3.org/2000/svg\" height=\"24px\" viewBox=\"0 -960 960 960\">\n",
              "    <path d=\"M120-120v-720h720v720H120Zm60-500h600v-160H180v160Zm220 220h160v-160H400v160Zm0 220h160v-160H400v160ZM180-400h160v-160H180v160Zm440 0h160v-160H620v160ZM180-180h160v-160H180v160Zm440 0h160v-160H620v160Z\"/>\n",
              "  </svg>\n",
              "    </button>\n",
              "\n",
              "  <style>\n",
              "    .colab-df-container {\n",
              "      display:flex;\n",
              "      gap: 12px;\n",
              "    }\n",
              "\n",
              "    .colab-df-convert {\n",
              "      background-color: #E8F0FE;\n",
              "      border: none;\n",
              "      border-radius: 50%;\n",
              "      cursor: pointer;\n",
              "      display: none;\n",
              "      fill: #1967D2;\n",
              "      height: 32px;\n",
              "      padding: 0 0 0 0;\n",
              "      width: 32px;\n",
              "    }\n",
              "\n",
              "    .colab-df-convert:hover {\n",
              "      background-color: #E2EBFA;\n",
              "      box-shadow: 0px 1px 2px rgba(60, 64, 67, 0.3), 0px 1px 3px 1px rgba(60, 64, 67, 0.15);\n",
              "      fill: #174EA6;\n",
              "    }\n",
              "\n",
              "    .colab-df-buttons div {\n",
              "      margin-bottom: 4px;\n",
              "    }\n",
              "\n",
              "    [theme=dark] .colab-df-convert {\n",
              "      background-color: #3B4455;\n",
              "      fill: #D2E3FC;\n",
              "    }\n",
              "\n",
              "    [theme=dark] .colab-df-convert:hover {\n",
              "      background-color: #434B5C;\n",
              "      box-shadow: 0px 1px 3px 1px rgba(0, 0, 0, 0.15);\n",
              "      filter: drop-shadow(0px 1px 2px rgba(0, 0, 0, 0.3));\n",
              "      fill: #FFFFFF;\n",
              "    }\n",
              "  </style>\n",
              "\n",
              "    <script>\n",
              "      const buttonEl =\n",
              "        document.querySelector('#df-bf5d541c-cebf-446d-a23f-f130c8ab16b0 button.colab-df-convert');\n",
              "      buttonEl.style.display =\n",
              "        google.colab.kernel.accessAllowed ? 'block' : 'none';\n",
              "\n",
              "      async function convertToInteractive(key) {\n",
              "        const element = document.querySelector('#df-bf5d541c-cebf-446d-a23f-f130c8ab16b0');\n",
              "        const dataTable =\n",
              "          await google.colab.kernel.invokeFunction('convertToInteractive',\n",
              "                                                    [key], {});\n",
              "        if (!dataTable) return;\n",
              "\n",
              "        const docLinkHtml = 'Like what you see? Visit the ' +\n",
              "          '<a target=\"_blank\" href=https://colab.research.google.com/notebooks/data_table.ipynb>data table notebook</a>'\n",
              "          + ' to learn more about interactive tables.';\n",
              "        element.innerHTML = '';\n",
              "        dataTable['output_type'] = 'display_data';\n",
              "        await google.colab.output.renderOutput(dataTable, element);\n",
              "        const docLink = document.createElement('div');\n",
              "        docLink.innerHTML = docLinkHtml;\n",
              "        element.appendChild(docLink);\n",
              "      }\n",
              "    </script>\n",
              "  </div>\n",
              "\n",
              "\n",
              "    <div id=\"df-4072f3b6-5390-4f05-8f49-526095913e74\">\n",
              "      <button class=\"colab-df-quickchart\" onclick=\"quickchart('df-4072f3b6-5390-4f05-8f49-526095913e74')\"\n",
              "                title=\"Suggest charts\"\n",
              "                style=\"display:none;\">\n",
              "\n",
              "<svg xmlns=\"http://www.w3.org/2000/svg\" height=\"24px\"viewBox=\"0 0 24 24\"\n",
              "     width=\"24px\">\n",
              "    <g>\n",
              "        <path d=\"M19 3H5c-1.1 0-2 .9-2 2v14c0 1.1.9 2 2 2h14c1.1 0 2-.9 2-2V5c0-1.1-.9-2-2-2zM9 17H7v-7h2v7zm4 0h-2V7h2v10zm4 0h-2v-4h2v4z\"/>\n",
              "    </g>\n",
              "</svg>\n",
              "      </button>\n",
              "\n",
              "<style>\n",
              "  .colab-df-quickchart {\n",
              "      --bg-color: #E8F0FE;\n",
              "      --fill-color: #1967D2;\n",
              "      --hover-bg-color: #E2EBFA;\n",
              "      --hover-fill-color: #174EA6;\n",
              "      --disabled-fill-color: #AAA;\n",
              "      --disabled-bg-color: #DDD;\n",
              "  }\n",
              "\n",
              "  [theme=dark] .colab-df-quickchart {\n",
              "      --bg-color: #3B4455;\n",
              "      --fill-color: #D2E3FC;\n",
              "      --hover-bg-color: #434B5C;\n",
              "      --hover-fill-color: #FFFFFF;\n",
              "      --disabled-bg-color: #3B4455;\n",
              "      --disabled-fill-color: #666;\n",
              "  }\n",
              "\n",
              "  .colab-df-quickchart {\n",
              "    background-color: var(--bg-color);\n",
              "    border: none;\n",
              "    border-radius: 50%;\n",
              "    cursor: pointer;\n",
              "    display: none;\n",
              "    fill: var(--fill-color);\n",
              "    height: 32px;\n",
              "    padding: 0;\n",
              "    width: 32px;\n",
              "  }\n",
              "\n",
              "  .colab-df-quickchart:hover {\n",
              "    background-color: var(--hover-bg-color);\n",
              "    box-shadow: 0 1px 2px rgba(60, 64, 67, 0.3), 0 1px 3px 1px rgba(60, 64, 67, 0.15);\n",
              "    fill: var(--button-hover-fill-color);\n",
              "  }\n",
              "\n",
              "  .colab-df-quickchart-complete:disabled,\n",
              "  .colab-df-quickchart-complete:disabled:hover {\n",
              "    background-color: var(--disabled-bg-color);\n",
              "    fill: var(--disabled-fill-color);\n",
              "    box-shadow: none;\n",
              "  }\n",
              "\n",
              "  .colab-df-spinner {\n",
              "    border: 2px solid var(--fill-color);\n",
              "    border-color: transparent;\n",
              "    border-bottom-color: var(--fill-color);\n",
              "    animation:\n",
              "      spin 1s steps(1) infinite;\n",
              "  }\n",
              "\n",
              "  @keyframes spin {\n",
              "    0% {\n",
              "      border-color: transparent;\n",
              "      border-bottom-color: var(--fill-color);\n",
              "      border-left-color: var(--fill-color);\n",
              "    }\n",
              "    20% {\n",
              "      border-color: transparent;\n",
              "      border-left-color: var(--fill-color);\n",
              "      border-top-color: var(--fill-color);\n",
              "    }\n",
              "    30% {\n",
              "      border-color: transparent;\n",
              "      border-left-color: var(--fill-color);\n",
              "      border-top-color: var(--fill-color);\n",
              "      border-right-color: var(--fill-color);\n",
              "    }\n",
              "    40% {\n",
              "      border-color: transparent;\n",
              "      border-right-color: var(--fill-color);\n",
              "      border-top-color: var(--fill-color);\n",
              "    }\n",
              "    60% {\n",
              "      border-color: transparent;\n",
              "      border-right-color: var(--fill-color);\n",
              "    }\n",
              "    80% {\n",
              "      border-color: transparent;\n",
              "      border-right-color: var(--fill-color);\n",
              "      border-bottom-color: var(--fill-color);\n",
              "    }\n",
              "    90% {\n",
              "      border-color: transparent;\n",
              "      border-bottom-color: var(--fill-color);\n",
              "    }\n",
              "  }\n",
              "</style>\n",
              "\n",
              "      <script>\n",
              "        async function quickchart(key) {\n",
              "          const quickchartButtonEl =\n",
              "            document.querySelector('#' + key + ' button');\n",
              "          quickchartButtonEl.disabled = true;  // To prevent multiple clicks.\n",
              "          quickchartButtonEl.classList.add('colab-df-spinner');\n",
              "          try {\n",
              "            const charts = await google.colab.kernel.invokeFunction(\n",
              "                'suggestCharts', [key], {});\n",
              "          } catch (error) {\n",
              "            console.error('Error during call to suggestCharts:', error);\n",
              "          }\n",
              "          quickchartButtonEl.classList.remove('colab-df-spinner');\n",
              "          quickchartButtonEl.classList.add('colab-df-quickchart-complete');\n",
              "        }\n",
              "        (() => {\n",
              "          let quickchartButtonEl =\n",
              "            document.querySelector('#df-4072f3b6-5390-4f05-8f49-526095913e74 button');\n",
              "          quickchartButtonEl.style.display =\n",
              "            google.colab.kernel.accessAllowed ? 'block' : 'none';\n",
              "        })();\n",
              "      </script>\n",
              "    </div>\n",
              "\n",
              "    </div>\n",
              "  </div>\n"
            ],
            "application/vnd.google.colaboratory.intrinsic+json": {
              "type": "dataframe",
              "summary": "{\n  \"name\": \"display(content_recommend(\\\"Naruto\\\"))\",\n  \"rows\": 5,\n  \"fields\": [\n    {\n      \"column\": \"anime_id\",\n      \"properties\": {\n        \"dtype\": \"number\",\n        \"std\": 12942,\n        \"min\": 20,\n        \"max\": 32365,\n        \"num_unique_values\": 5,\n        \"samples\": [\n          20,\n          8246,\n          32365\n        ],\n        \"semantic_type\": \"\",\n        \"description\": \"\"\n      }\n    },\n    {\n      \"column\": \"name\",\n      \"properties\": {\n        \"dtype\": \"string\",\n        \"num_unique_values\": 5,\n        \"samples\": [\n          \"Naruto\",\n          \"Naruto: Shippuuden Movie 4 - The Lost Tower\",\n          \"Boruto: Naruto the Movie - Naruto ga Hokage ni Natta Hi\"\n        ],\n        \"semantic_type\": \"\",\n        \"description\": \"\"\n      }\n    },\n    {\n      \"column\": \"genre\",\n      \"properties\": {\n        \"dtype\": \"category\",\n        \"num_unique_values\": 1,\n        \"samples\": [\n          \"Action, Comedy, Martial Arts, Shounen, Super Power\"\n        ],\n        \"semantic_type\": \"\",\n        \"description\": \"\"\n      }\n    },\n    {\n      \"column\": \"type\",\n      \"properties\": {\n        \"dtype\": \"string\",\n        \"num_unique_values\": 4,\n        \"samples\": [\n          \"Special\"\n        ],\n        \"semantic_type\": \"\",\n        \"description\": \"\"\n      }\n    },\n    {\n      \"column\": \"episodes\",\n      \"properties\": {\n        \"dtype\": \"number\",\n        \"std\": 95.88691255849257,\n        \"min\": 1.0,\n        \"max\": 220.0,\n        \"num_unique_values\": 3,\n        \"samples\": [\n          24.0\n        ],\n        \"semantic_type\": \"\",\n        \"description\": \"\"\n      }\n    },\n    {\n      \"column\": \"rating\",\n      \"properties\": {\n        \"dtype\": \"number\",\n        \"std\": 0.16813684902483453,\n        \"min\": 7.53,\n        \"max\": 7.94,\n        \"num_unique_values\": 5,\n        \"samples\": [\n          7.81\n        ],\n        \"semantic_type\": \"\",\n        \"description\": \"\"\n      }\n    },\n    {\n      \"column\": \"members\",\n      \"properties\": {\n        \"dtype\": \"number\",\n        \"std\": 316041,\n        \"min\": 16868,\n        \"max\": 683297,\n        \"num_unique_values\": 5,\n        \"samples\": [\n          683297\n        ],\n        \"semantic_type\": \"\",\n        \"description\": \"\"\n      }\n    },\n    {\n      \"column\": \"genre_list\",\n      \"properties\": {\n        \"dtype\": \"object\",\n        \"semantic_type\": \"\",\n        \"description\": \"\"\n      }\n    },\n    {\n      \"column\": \"genre_features\",\n      \"properties\": {\n        \"dtype\": \"category\",\n        \"num_unique_values\": 1,\n        \"samples\": [\n          \"Action Comedy Martial Arts Shounen Super Power\"\n        ],\n        \"semantic_type\": \"\",\n        \"description\": \"\"\n      }\n    },\n    {\n      \"column\": \"popularity_score\",\n      \"properties\": {\n        \"dtype\": \"number\",\n        \"std\": 14.81294437014886,\n        \"min\": 74.75122864865519,\n        \"max\": 104.92490042311972,\n        \"num_unique_values\": 5,\n        \"samples\": [\n          104.92490042311972\n        ],\n        \"semantic_type\": \"\",\n        \"description\": \"\"\n      }\n    }\n  ]\n}"
            }
          },
          "metadata": {}
        }
      ]
    },
    {
      "cell_type": "markdown",
      "source": [
        "Kode di atas merupakan contoh inference dengan metode TF-IDF dan Cosine dari anime Naruto. Yang ditampilkan adalah Top 5 anime yang direkomendasikan dengan cosine familarity tertinggi. Anime yang direkomendasikan seperti: Naruto Shippuden, Naruto, Naruto Movie, Boruto, dll."
      ],
      "metadata": {
        "id": "DQYmF-5vGnsb"
      }
    },
    {
      "cell_type": "code",
      "source": [
        "# SVD Recommendation based on user id\n",
        "def top_n_recommendations(user_id, anime_df, rating_df, model, n=10):\n",
        "    # Get list of anime the user hasn't rated\n",
        "    anime_watched = rating_df[rating_df['user_id'] == user_id]['anime_id'].unique()\n",
        "    anime_not_watched = anime_df[~anime_df['anime_id'].isin(anime_watched)]\n",
        "\n",
        "    # Predict ratings for unseen anime\n",
        "    predictions = [\n",
        "        (anime['anime_id'], model.predict(user_id, anime['anime_id']).est)\n",
        "        for _, anime in anime_not_watched.iterrows()\n",
        "    ]\n",
        "\n",
        "    # Sort by estimated rating\n",
        "    top_n = sorted(predictions, key=lambda x: x[1], reverse=True)[:n]\n",
        "\n",
        "    # Return DataFrame of top-N recommendations\n",
        "    top_n_df = anime_df[anime_df['anime_id'].isin([x[0] for x in top_n])].copy()\n",
        "    top_n_df['predicted_rating'] = [x[1] for x in top_n]\n",
        "\n",
        "    return top_n_df.sort_values(by='predicted_rating', ascending=False)\n",
        "\n",
        "top_10 = top_n_recommendations(user_id=1, anime_df=anime_df, rating_df=rating_df_clean, model=svd, n=10)\n",
        "print(top_10[['name', 'type', 'predicted_rating']])"
      ],
      "metadata": {
        "colab": {
          "base_uri": "https://localhost:8080/"
        },
        "id": "B7t9wKehtoKd",
        "outputId": "8cb50dc2-4b47-4d41-cad3-65c594bee6ff"
      },
      "execution_count": null,
      "outputs": [
        {
          "output_type": "stream",
          "name": "stdout",
          "text": [
            "                                   name type  predicted_rating\n",
            "2                              Gintama°   TV          9.902546\n",
            "12                              Gintama   TV          9.737670\n",
            "13   Code Geass: Hangyaku no Lelouch R2   TV          9.700114\n",
            "19      Code Geass: Hangyaku no Lelouch   TV          9.693361\n",
            "40                           Death Note   TV          9.692926\n",
            "86                   Shingeki no Kyojin   TV          9.654161\n",
            "118                     No Game No Life   TV          9.648420\n",
            "175              Katekyo Hitman Reborn!   TV          9.644575\n",
            "206                       Dragon Ball Z   TV          9.643618\n",
            "288                          Fairy Tail   TV          9.608506\n"
          ]
        }
      ]
    },
    {
      "cell_type": "markdown",
      "source": [
        "Rekomendasi anime menggunakan model SVD ini merupakan collaborative filterring dengan input user id dan anime id. Dimana function ini mengambil daftar anime yang sudah diberi rating oleh user, kemudian dicari anime yang belum ditonton/diberikan rating oleh user. Model SVD digunakan untuk memperkirakan rating yang akan diberikan user terhadap anime tersebut. Semua prediksi kemudian diurutkan dari rating tertinggi ke terendah menggunakan fungsi sorted, dan hanya top 10 anime teratas yang diambil."
      ],
      "metadata": {
        "id": "qwmSPgpUP6Mh"
      }
    }
  ]
}